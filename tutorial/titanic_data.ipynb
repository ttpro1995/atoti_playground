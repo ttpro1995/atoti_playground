{
 "cells": [
  {
   "cell_type": "code",
   "execution_count": 1,
   "id": "5b613651-16f5-445b-b069-3010197634a5",
   "metadata": {},
   "outputs": [],
   "source": [
    "import pandas as pd"
   ]
  },
  {
   "cell_type": "code",
   "execution_count": 2,
   "id": "f6a4617f-da6e-450d-916e-800170312e74",
   "metadata": {},
   "outputs": [],
   "source": [
    "df_titanic = pd.read_csv(\"data/traintitanic.csv\")"
   ]
  },
  {
   "cell_type": "code",
   "execution_count": 3,
   "id": "6a14f786-0703-4729-afcc-117520ab2894",
   "metadata": {},
   "outputs": [
    {
     "data": {
      "text/html": [
       "<div>\n",
       "<style scoped>\n",
       "    .dataframe tbody tr th:only-of-type {\n",
       "        vertical-align: middle;\n",
       "    }\n",
       "\n",
       "    .dataframe tbody tr th {\n",
       "        vertical-align: top;\n",
       "    }\n",
       "\n",
       "    .dataframe thead th {\n",
       "        text-align: right;\n",
       "    }\n",
       "</style>\n",
       "<table border=\"1\" class=\"dataframe\">\n",
       "  <thead>\n",
       "    <tr style=\"text-align: right;\">\n",
       "      <th></th>\n",
       "      <th>PassengerId</th>\n",
       "      <th>Survived</th>\n",
       "      <th>Pclass</th>\n",
       "      <th>Name</th>\n",
       "      <th>Sex</th>\n",
       "      <th>Age</th>\n",
       "      <th>SibSp</th>\n",
       "      <th>Parch</th>\n",
       "      <th>Ticket</th>\n",
       "      <th>Fare</th>\n",
       "      <th>Cabin</th>\n",
       "      <th>Embarked</th>\n",
       "    </tr>\n",
       "  </thead>\n",
       "  <tbody>\n",
       "    <tr>\n",
       "      <th>0</th>\n",
       "      <td>1</td>\n",
       "      <td>0</td>\n",
       "      <td>3</td>\n",
       "      <td>Braund, Mr. Owen Harris</td>\n",
       "      <td>male</td>\n",
       "      <td>22.0</td>\n",
       "      <td>1</td>\n",
       "      <td>0</td>\n",
       "      <td>A/5 21171</td>\n",
       "      <td>7.2500</td>\n",
       "      <td>NaN</td>\n",
       "      <td>S</td>\n",
       "    </tr>\n",
       "    <tr>\n",
       "      <th>1</th>\n",
       "      <td>2</td>\n",
       "      <td>1</td>\n",
       "      <td>1</td>\n",
       "      <td>Cumings, Mrs. John Bradley (Florence Briggs Th...</td>\n",
       "      <td>female</td>\n",
       "      <td>38.0</td>\n",
       "      <td>1</td>\n",
       "      <td>0</td>\n",
       "      <td>PC 17599</td>\n",
       "      <td>71.2833</td>\n",
       "      <td>C85</td>\n",
       "      <td>C</td>\n",
       "    </tr>\n",
       "    <tr>\n",
       "      <th>2</th>\n",
       "      <td>3</td>\n",
       "      <td>1</td>\n",
       "      <td>3</td>\n",
       "      <td>Heikkinen, Miss. Laina</td>\n",
       "      <td>female</td>\n",
       "      <td>26.0</td>\n",
       "      <td>0</td>\n",
       "      <td>0</td>\n",
       "      <td>STON/O2. 3101282</td>\n",
       "      <td>7.9250</td>\n",
       "      <td>NaN</td>\n",
       "      <td>S</td>\n",
       "    </tr>\n",
       "    <tr>\n",
       "      <th>3</th>\n",
       "      <td>4</td>\n",
       "      <td>1</td>\n",
       "      <td>1</td>\n",
       "      <td>Futrelle, Mrs. Jacques Heath (Lily May Peel)</td>\n",
       "      <td>female</td>\n",
       "      <td>35.0</td>\n",
       "      <td>1</td>\n",
       "      <td>0</td>\n",
       "      <td>113803</td>\n",
       "      <td>53.1000</td>\n",
       "      <td>C123</td>\n",
       "      <td>S</td>\n",
       "    </tr>\n",
       "    <tr>\n",
       "      <th>4</th>\n",
       "      <td>5</td>\n",
       "      <td>0</td>\n",
       "      <td>3</td>\n",
       "      <td>Allen, Mr. William Henry</td>\n",
       "      <td>male</td>\n",
       "      <td>35.0</td>\n",
       "      <td>0</td>\n",
       "      <td>0</td>\n",
       "      <td>373450</td>\n",
       "      <td>8.0500</td>\n",
       "      <td>NaN</td>\n",
       "      <td>S</td>\n",
       "    </tr>\n",
       "  </tbody>\n",
       "</table>\n",
       "</div>"
      ],
      "text/plain": [
       "   PassengerId  Survived  Pclass  \\\n",
       "0            1         0       3   \n",
       "1            2         1       1   \n",
       "2            3         1       3   \n",
       "3            4         1       1   \n",
       "4            5         0       3   \n",
       "\n",
       "                                                Name     Sex   Age  SibSp  \\\n",
       "0                            Braund, Mr. Owen Harris    male  22.0      1   \n",
       "1  Cumings, Mrs. John Bradley (Florence Briggs Th...  female  38.0      1   \n",
       "2                             Heikkinen, Miss. Laina  female  26.0      0   \n",
       "3       Futrelle, Mrs. Jacques Heath (Lily May Peel)  female  35.0      1   \n",
       "4                           Allen, Mr. William Henry    male  35.0      0   \n",
       "\n",
       "   Parch            Ticket     Fare Cabin Embarked  \n",
       "0      0         A/5 21171   7.2500   NaN        S  \n",
       "1      0          PC 17599  71.2833   C85        C  \n",
       "2      0  STON/O2. 3101282   7.9250   NaN        S  \n",
       "3      0            113803  53.1000  C123        S  \n",
       "4      0            373450   8.0500   NaN        S  "
      ]
     },
     "execution_count": 3,
     "metadata": {},
     "output_type": "execute_result"
    }
   ],
   "source": [
    "df_titanic.head()"
   ]
  },
  {
   "cell_type": "code",
   "execution_count": 4,
   "id": "84eb7c03-4945-4356-a04e-8bc2330927a5",
   "metadata": {},
   "outputs": [],
   "source": [
    "import atoti as tt\n",
    "\n",
    "session = tt.create_session()"
   ]
  },
  {
   "cell_type": "code",
   "execution_count": 5,
   "id": "5d43c9d5-c8df-4c66-8ffe-43e8985d94a4",
   "metadata": {},
   "outputs": [],
   "source": [
    "df_titanic_ss = session.read_csv(\"data/traintitanic.csv\", keys=[\"PassengerId\"])"
   ]
  },
  {
   "cell_type": "code",
   "execution_count": 26,
   "id": "46c784ed-0cf5-475e-bcab-167cf0422580",
   "metadata": {},
   "outputs": [
    {
     "data": {
      "text/plain": [
       "atoti.store.Store"
      ]
     },
     "execution_count": 26,
     "metadata": {},
     "output_type": "execute_result"
    }
   ],
   "source": [
    "type(df_titanic_ss)"
   ]
  },
  {
   "cell_type": "code",
   "execution_count": 27,
   "id": "078f7032-a0e2-44ff-a715-3cd8618776c6",
   "metadata": {},
   "outputs": [
    {
     "data": {
      "text/html": [
       "<div>\n",
       "<style scoped>\n",
       "    .dataframe tbody tr th:only-of-type {\n",
       "        vertical-align: middle;\n",
       "    }\n",
       "\n",
       "    .dataframe tbody tr th {\n",
       "        vertical-align: top;\n",
       "    }\n",
       "\n",
       "    .dataframe thead th {\n",
       "        text-align: right;\n",
       "    }\n",
       "</style>\n",
       "<table border=\"1\" class=\"dataframe\">\n",
       "  <thead>\n",
       "    <tr style=\"text-align: right;\">\n",
       "      <th></th>\n",
       "      <th>Survived</th>\n",
       "      <th>Pclass</th>\n",
       "      <th>Name</th>\n",
       "      <th>Sex</th>\n",
       "      <th>Age</th>\n",
       "      <th>SibSp</th>\n",
       "      <th>Parch</th>\n",
       "      <th>Ticket</th>\n",
       "      <th>Fare</th>\n",
       "      <th>Cabin</th>\n",
       "      <th>Embarked</th>\n",
       "    </tr>\n",
       "    <tr>\n",
       "      <th>PassengerId</th>\n",
       "      <th></th>\n",
       "      <th></th>\n",
       "      <th></th>\n",
       "      <th></th>\n",
       "      <th></th>\n",
       "      <th></th>\n",
       "      <th></th>\n",
       "      <th></th>\n",
       "      <th></th>\n",
       "      <th></th>\n",
       "      <th></th>\n",
       "    </tr>\n",
       "  </thead>\n",
       "  <tbody>\n",
       "    <tr>\n",
       "      <th>1</th>\n",
       "      <td>0</td>\n",
       "      <td>3</td>\n",
       "      <td>Braund, Mr. Owen Harris</td>\n",
       "      <td>male</td>\n",
       "      <td>22.0</td>\n",
       "      <td>1</td>\n",
       "      <td>0</td>\n",
       "      <td>A/5 21171</td>\n",
       "      <td>7.2500</td>\n",
       "      <td>N/A</td>\n",
       "      <td>S</td>\n",
       "    </tr>\n",
       "    <tr>\n",
       "      <th>2</th>\n",
       "      <td>1</td>\n",
       "      <td>1</td>\n",
       "      <td>Cumings, Mrs. John Bradley (Florence Briggs Th...</td>\n",
       "      <td>female</td>\n",
       "      <td>38.0</td>\n",
       "      <td>1</td>\n",
       "      <td>0</td>\n",
       "      <td>PC 17599</td>\n",
       "      <td>71.2833</td>\n",
       "      <td>C85</td>\n",
       "      <td>C</td>\n",
       "    </tr>\n",
       "    <tr>\n",
       "      <th>3</th>\n",
       "      <td>1</td>\n",
       "      <td>3</td>\n",
       "      <td>Heikkinen, Miss. Laina</td>\n",
       "      <td>female</td>\n",
       "      <td>26.0</td>\n",
       "      <td>0</td>\n",
       "      <td>0</td>\n",
       "      <td>STON/O2. 3101282</td>\n",
       "      <td>7.9250</td>\n",
       "      <td>N/A</td>\n",
       "      <td>S</td>\n",
       "    </tr>\n",
       "    <tr>\n",
       "      <th>4</th>\n",
       "      <td>1</td>\n",
       "      <td>1</td>\n",
       "      <td>Futrelle, Mrs. Jacques Heath (Lily May Peel)</td>\n",
       "      <td>female</td>\n",
       "      <td>35.0</td>\n",
       "      <td>1</td>\n",
       "      <td>0</td>\n",
       "      <td>113803</td>\n",
       "      <td>53.1000</td>\n",
       "      <td>C123</td>\n",
       "      <td>S</td>\n",
       "    </tr>\n",
       "    <tr>\n",
       "      <th>5</th>\n",
       "      <td>0</td>\n",
       "      <td>3</td>\n",
       "      <td>Allen, Mr. William Henry</td>\n",
       "      <td>male</td>\n",
       "      <td>35.0</td>\n",
       "      <td>0</td>\n",
       "      <td>0</td>\n",
       "      <td>373450</td>\n",
       "      <td>8.0500</td>\n",
       "      <td>N/A</td>\n",
       "      <td>S</td>\n",
       "    </tr>\n",
       "  </tbody>\n",
       "</table>\n",
       "</div>"
      ],
      "text/plain": [
       "             Survived  Pclass  \\\n",
       "PassengerId                     \n",
       "1                   0       3   \n",
       "2                   1       1   \n",
       "3                   1       3   \n",
       "4                   1       1   \n",
       "5                   0       3   \n",
       "\n",
       "                                                          Name     Sex   Age  \\\n",
       "PassengerId                                                                    \n",
       "1                                      Braund, Mr. Owen Harris    male  22.0   \n",
       "2            Cumings, Mrs. John Bradley (Florence Briggs Th...  female  38.0   \n",
       "3                                       Heikkinen, Miss. Laina  female  26.0   \n",
       "4                 Futrelle, Mrs. Jacques Heath (Lily May Peel)  female  35.0   \n",
       "5                                     Allen, Mr. William Henry    male  35.0   \n",
       "\n",
       "             SibSp  Parch            Ticket     Fare Cabin Embarked  \n",
       "PassengerId                                                          \n",
       "1                1      0         A/5 21171   7.2500   N/A        S  \n",
       "2                1      0          PC 17599  71.2833   C85        C  \n",
       "3                0      0  STON/O2. 3101282   7.9250   N/A        S  \n",
       "4                1      0            113803  53.1000  C123        S  \n",
       "5                0      0            373450   8.0500   N/A        S  "
      ]
     },
     "execution_count": 27,
     "metadata": {},
     "output_type": "execute_result"
    }
   ],
   "source": [
    "\n",
    "df_titanic_ss.head()"
   ]
  },
  {
   "cell_type": "code",
   "execution_count": 28,
   "id": "275e6a52-9267-4a12-904d-25a12c0d9cb5",
   "metadata": {},
   "outputs": [],
   "source": [
    "titanic_cube = session.create_cube(df_titanic_ss, \"titanic\")"
   ]
  },
  {
   "cell_type": "code",
   "execution_count": 29,
   "id": "4ba8da1f-9cd1-49cd-b077-c094e7086396",
   "metadata": {},
   "outputs": [
    {
     "data": {
      "text/plain": [
       "\u001b[0;31mSignature:\u001b[0m\n",
       "\u001b[0msession\u001b[0m\u001b[0;34m.\u001b[0m\u001b[0mcreate_cube\u001b[0m\u001b[0;34m(\u001b[0m\u001b[0;34m\u001b[0m\n",
       "\u001b[0;34m\u001b[0m    \u001b[0mbase_store\u001b[0m\u001b[0;34m:\u001b[0m \u001b[0;34m'Store'\u001b[0m\u001b[0;34m,\u001b[0m\u001b[0;34m\u001b[0m\n",
       "\u001b[0;34m\u001b[0m    \u001b[0mname\u001b[0m\u001b[0;34m:\u001b[0m \u001b[0;34m'Optional[str]'\u001b[0m \u001b[0;34m=\u001b[0m \u001b[0;32mNone\u001b[0m\u001b[0;34m,\u001b[0m\u001b[0;34m\u001b[0m\n",
       "\u001b[0;34m\u001b[0m    \u001b[0;34m*\u001b[0m\u001b[0;34m,\u001b[0m\u001b[0;34m\u001b[0m\n",
       "\u001b[0;34m\u001b[0m    \u001b[0mmode\u001b[0m\u001b[0;34m:\u001b[0m \u001b[0;34m'_CubeCreationMode'\u001b[0m \u001b[0;34m=\u001b[0m \u001b[0;34m'auto'\u001b[0m\u001b[0;34m,\u001b[0m\u001b[0;34m\u001b[0m\n",
       "\u001b[0;34m\u001b[0m\u001b[0;34m)\u001b[0m \u001b[0;34m->\u001b[0m \u001b[0;34m'Cube'\u001b[0m\u001b[0;34m\u001b[0m\u001b[0;34m\u001b[0m\u001b[0m\n",
       "\u001b[0;31mDocstring:\u001b[0m\n",
       "Create a cube based on the passed store.\n",
       "\n",
       "Args:\n",
       "    base_store: The base store of the cube.\n",
       "    name: The name of the created cube.\n",
       "        Defaults to the name of the base store.\n",
       "    mode: The cube creation mode:\n",
       "\n",
       "        * ``auto``: Creates hierarchies for every non-numeric column, and measures for every numeric column.\n",
       "        * ``manual``: Does not create any hierarchy or measure (except from the count).\n",
       "        * ``no_measures``: Creates the hierarchies like ``auto`` but does not create any measures.\n",
       "\n",
       "        For stores with ``hierarchized_columns`` specified, these will be converted into\n",
       "        hierarchies regardless of the cube creation mode.\n",
       "\n",
       "See Also:\n",
       "    Hierarchies and measures created by a :meth:`~atoti.store.Store.join`.\n",
       "\u001b[0;31mFile:\u001b[0m      ~/miniconda3/envs/atoti/lib/python3.8/site-packages/atoti/session.py\n",
       "\u001b[0;31mType:\u001b[0m      method\n"
      ]
     },
     "metadata": {},
     "output_type": "display_data"
    }
   ],
   "source": [
    "?session.create_cube"
   ]
  },
  {
   "cell_type": "code",
   "execution_count": 30,
   "id": "91aab526-4e62-4d03-a901-df698f40fdcf",
   "metadata": {},
   "outputs": [
    {
     "data": {
      "application/json": {
       "Traintitanic": {
        "Cabin": [
         "Cabin"
        ],
        "Embarked": [
         "Embarked"
        ],
        "Name": [
         "Name"
        ],
        "Parch": [
         "Parch"
        ],
        "PassengerId": [
         "PassengerId"
        ],
        "Pclass": [
         "Pclass"
        ],
        "Sex": [
         "Sex"
        ],
        "SibSp": [
         "SibSp"
        ],
        "Survived": [
         "Survived"
        ],
        "Ticket": [
         "Ticket"
        ]
       }
      },
      "text/html": [
       "<ul>\n",
       "<li>Dimensions\n",
       "  <ul>\n",
       "  <li>Traintitanic\n",
       "    <ul>\n",
       "    <li>Cabin\n",
       "      <ol>\n",
       "      <li>Cabin</li>\n",
       "      </ol>    </li>\n",
       "    <li>Embarked\n",
       "      <ol>\n",
       "      <li>Embarked</li>\n",
       "      </ol>    </li>\n",
       "    <li>Name\n",
       "      <ol>\n",
       "      <li>Name</li>\n",
       "      </ol>    </li>\n",
       "    <li>Parch\n",
       "      <ol>\n",
       "      <li>Parch</li>\n",
       "      </ol>    </li>\n",
       "    <li>PassengerId\n",
       "      <ol>\n",
       "      <li>PassengerId</li>\n",
       "      </ol>    </li>\n",
       "    <li>Pclass\n",
       "      <ol>\n",
       "      <li>Pclass</li>\n",
       "      </ol>    </li>\n",
       "    <li>Sex\n",
       "      <ol>\n",
       "      <li>Sex</li>\n",
       "      </ol>    </li>\n",
       "    <li>SibSp\n",
       "      <ol>\n",
       "      <li>SibSp</li>\n",
       "      </ol>    </li>\n",
       "    <li>Survived\n",
       "      <ol>\n",
       "      <li>Survived</li>\n",
       "      </ol>    </li>\n",
       "    <li>Ticket\n",
       "      <ol>\n",
       "      <li>Ticket</li>\n",
       "      </ol>    </li>\n",
       "    </ul>\n",
       "  </li>\n",
       "  </ul>\n",
       "</li>\n",
       "</ul>\n"
      ],
      "text/plain": [
       "Hierarchies()"
      ]
     },
     "execution_count": 30,
     "metadata": {
      "application/json": {
       "expanded": true,
       "root": "Dimensions"
      }
     },
     "output_type": "execute_result"
    }
   ],
   "source": [
    "titanic_cube.hierarchies"
   ]
  },
  {
   "cell_type": "code",
   "execution_count": 31,
   "id": "95fafdea-905b-4bf3-bae9-54bb8d426b83",
   "metadata": {},
   "outputs": [
    {
     "data": {
      "application/json": {
       "Age.MEAN": {
        "formatter": "DOUBLE[#,###.00]"
       },
       "Age.SUM": {
        "formatter": "DOUBLE[#,###.00]"
       },
       "Fare.MEAN": {
        "formatter": "DOUBLE[#,###.00]"
       },
       "Fare.SUM": {
        "formatter": "DOUBLE[#,###.00]"
       },
       "contributors.COUNT": {
        "formatter": "INT[#,###]"
       }
      },
      "text/html": [
       "<ul>\n",
       "<li>Measures\n",
       "  <ul>\n",
       "  <li>Age.MEAN\n",
       "    <ul>\n",
       "    <li>formatter: DOUBLE[#,###.00]</li>\n",
       "    </ul>\n",
       "  </li>\n",
       "  <li>Age.SUM\n",
       "    <ul>\n",
       "    <li>formatter: DOUBLE[#,###.00]</li>\n",
       "    </ul>\n",
       "  </li>\n",
       "  <li>Fare.MEAN\n",
       "    <ul>\n",
       "    <li>formatter: DOUBLE[#,###.00]</li>\n",
       "    </ul>\n",
       "  </li>\n",
       "  <li>Fare.SUM\n",
       "    <ul>\n",
       "    <li>formatter: DOUBLE[#,###.00]</li>\n",
       "    </ul>\n",
       "  </li>\n",
       "  <li>contributors.COUNT\n",
       "    <ul>\n",
       "    <li>formatter: INT[#,###]</li>\n",
       "    </ul>\n",
       "  </li>\n",
       "  </ul>\n",
       "</li>\n",
       "</ul>\n"
      ],
      "text/plain": [
       "Measures()"
      ]
     },
     "execution_count": 31,
     "metadata": {
      "application/json": {
       "expanded": false,
       "root": "Measures"
      }
     },
     "output_type": "execute_result"
    }
   ],
   "source": [
    "m = titanic_cube.measures\n",
    "m"
   ]
  },
  {
   "cell_type": "code",
   "execution_count": 32,
   "id": "d79b3728-d09c-4104-b70d-51184af8b8bd",
   "metadata": {},
   "outputs": [
    {
     "data": {
      "application/json": {
       "Cabin (Traintitanic/Cabin/Cabin)": {
        "dimension": "Traintitanic",
        "hierarchy": "Cabin",
        "type": "string"
       },
       "Embarked (Traintitanic/Embarked/Embarked)": {
        "dimension": "Traintitanic",
        "hierarchy": "Embarked",
        "type": "string"
       },
       "Name (Traintitanic/Name/Name)": {
        "dimension": "Traintitanic",
        "hierarchy": "Name",
        "type": "string"
       },
       "Parch (Traintitanic/Parch/Parch)": {
        "dimension": "Traintitanic",
        "hierarchy": "Parch",
        "type": "int (nullable)"
       },
       "PassengerId (Traintitanic/PassengerId/PassengerId)": {
        "dimension": "Traintitanic",
        "hierarchy": "PassengerId",
        "type": "int"
       },
       "Pclass (Traintitanic/Pclass/Pclass)": {
        "dimension": "Traintitanic",
        "hierarchy": "Pclass",
        "type": "int (nullable)"
       },
       "Sex (Traintitanic/Sex/Sex)": {
        "dimension": "Traintitanic",
        "hierarchy": "Sex",
        "type": "string"
       },
       "SibSp (Traintitanic/SibSp/SibSp)": {
        "dimension": "Traintitanic",
        "hierarchy": "SibSp",
        "type": "int (nullable)"
       },
       "Survived (Traintitanic/Survived/Survived)": {
        "dimension": "Traintitanic",
        "hierarchy": "Survived",
        "type": "int (nullable)"
       },
       "Ticket (Traintitanic/Ticket/Ticket)": {
        "dimension": "Traintitanic",
        "hierarchy": "Ticket",
        "type": "string"
       }
      },
      "text/html": [
       "<ul>\n",
       "<li>Levels\n",
       "  <ul>\n",
       "  <li>Cabin (Traintitanic/Cabin/Cabin)\n",
       "    <ul>\n",
       "    <li>dimension: Traintitanic</li>\n",
       "    <li>hierarchy: Cabin</li>\n",
       "    <li>type: string</li>\n",
       "    </ul>\n",
       "  </li>\n",
       "  <li>Embarked (Traintitanic/Embarked/Embarked)\n",
       "    <ul>\n",
       "    <li>dimension: Traintitanic</li>\n",
       "    <li>hierarchy: Embarked</li>\n",
       "    <li>type: string</li>\n",
       "    </ul>\n",
       "  </li>\n",
       "  <li>Name (Traintitanic/Name/Name)\n",
       "    <ul>\n",
       "    <li>dimension: Traintitanic</li>\n",
       "    <li>hierarchy: Name</li>\n",
       "    <li>type: string</li>\n",
       "    </ul>\n",
       "  </li>\n",
       "  <li>Parch (Traintitanic/Parch/Parch)\n",
       "    <ul>\n",
       "    <li>dimension: Traintitanic</li>\n",
       "    <li>hierarchy: Parch</li>\n",
       "    <li>type: int (nullable)</li>\n",
       "    </ul>\n",
       "  </li>\n",
       "  <li>PassengerId (Traintitanic/PassengerId/PassengerId)\n",
       "    <ul>\n",
       "    <li>dimension: Traintitanic</li>\n",
       "    <li>hierarchy: PassengerId</li>\n",
       "    <li>type: int</li>\n",
       "    </ul>\n",
       "  </li>\n",
       "  <li>Pclass (Traintitanic/Pclass/Pclass)\n",
       "    <ul>\n",
       "    <li>dimension: Traintitanic</li>\n",
       "    <li>hierarchy: Pclass</li>\n",
       "    <li>type: int (nullable)</li>\n",
       "    </ul>\n",
       "  </li>\n",
       "  <li>Sex (Traintitanic/Sex/Sex)\n",
       "    <ul>\n",
       "    <li>dimension: Traintitanic</li>\n",
       "    <li>hierarchy: Sex</li>\n",
       "    <li>type: string</li>\n",
       "    </ul>\n",
       "  </li>\n",
       "  <li>SibSp (Traintitanic/SibSp/SibSp)\n",
       "    <ul>\n",
       "    <li>dimension: Traintitanic</li>\n",
       "    <li>hierarchy: SibSp</li>\n",
       "    <li>type: int (nullable)</li>\n",
       "    </ul>\n",
       "  </li>\n",
       "  <li>Survived (Traintitanic/Survived/Survived)\n",
       "    <ul>\n",
       "    <li>dimension: Traintitanic</li>\n",
       "    <li>hierarchy: Survived</li>\n",
       "    <li>type: int (nullable)</li>\n",
       "    </ul>\n",
       "  </li>\n",
       "  <li>Ticket (Traintitanic/Ticket/Ticket)\n",
       "    <ul>\n",
       "    <li>dimension: Traintitanic</li>\n",
       "    <li>hierarchy: Ticket</li>\n",
       "    <li>type: string</li>\n",
       "    </ul>\n",
       "  </li>\n",
       "  </ul>\n",
       "</li>\n",
       "</ul>\n"
      ],
      "text/plain": [
       "Levels()"
      ]
     },
     "execution_count": 32,
     "metadata": {
      "application/json": {
       "expanded": true,
       "root": "Levels"
      }
     },
     "output_type": "execute_result"
    }
   ],
   "source": [
    "l = titanic_cube.levels\n",
    "l"
   ]
  },
  {
   "cell_type": "code",
   "execution_count": 13,
   "id": "61b2628f-0ab1-4e8a-bc61-2510f46ecf7b",
   "metadata": {},
   "outputs": [
    {
     "data": {
      "application/vnd.atoti.convert-query-result-to-widget.v0+json": {
       "mdx": "SELECT {[Measures].[Age.MEAN]} ON COLUMNS FROM [titanic]",
       "sessionName": "Unnamed",
       "widgetCreationCode": "session.visualize()"
      },
      "text/html": [
       "<div>\n",
       "<style scoped>\n",
       "    .dataframe tbody tr th:only-of-type {\n",
       "        vertical-align: middle;\n",
       "    }\n",
       "\n",
       "    .dataframe tbody tr th {\n",
       "        vertical-align: top;\n",
       "    }\n",
       "\n",
       "    .dataframe thead th {\n",
       "        text-align: right;\n",
       "    }\n",
       "</style>\n",
       "<table border=\"1\" class=\"dataframe\">\n",
       "  <thead>\n",
       "    <tr style=\"text-align: right;\">\n",
       "      <th></th>\n",
       "      <th>Age.MEAN</th>\n",
       "    </tr>\n",
       "  </thead>\n",
       "  <tbody>\n",
       "    <tr>\n",
       "      <th>0</th>\n",
       "      <td>29.70</td>\n",
       "    </tr>\n",
       "  </tbody>\n",
       "</table>\n",
       "</div>"
      ],
      "text/plain": [
       "  Age.MEAN\n",
       "0    29.70"
      ]
     },
     "execution_count": 13,
     "metadata": {},
     "output_type": "execute_result"
    }
   ],
   "source": [
    "titanic_cube.query(m[\"Age.MEAN\"])"
   ]
  },
  {
   "cell_type": "code",
   "execution_count": 14,
   "id": "e606c55a-71f7-47a3-bcd4-194c279e42c5",
   "metadata": {},
   "outputs": [
    {
     "data": {
      "application/vnd.atoti.convert-query-result-to-widget.v0+json": {
       "mdx": "SELECT {[Measures].[Age.MEAN]} ON COLUMNS, NON EMPTY [Traintitanic].[Sex].[Sex].Members ON ROWS FROM [titanic]",
       "sessionName": "Unnamed",
       "widgetCreationCode": "session.visualize()"
      },
      "text/html": [
       "<div>\n",
       "<style scoped>\n",
       "    .dataframe tbody tr th:only-of-type {\n",
       "        vertical-align: middle;\n",
       "    }\n",
       "\n",
       "    .dataframe tbody tr th {\n",
       "        vertical-align: top;\n",
       "    }\n",
       "\n",
       "    .dataframe thead th {\n",
       "        text-align: right;\n",
       "    }\n",
       "</style>\n",
       "<table border=\"1\" class=\"dataframe\">\n",
       "  <thead>\n",
       "    <tr style=\"text-align: right;\">\n",
       "      <th></th>\n",
       "      <th>Age.MEAN</th>\n",
       "    </tr>\n",
       "    <tr>\n",
       "      <th>Sex</th>\n",
       "      <th></th>\n",
       "    </tr>\n",
       "  </thead>\n",
       "  <tbody>\n",
       "    <tr>\n",
       "      <th>female</th>\n",
       "      <td>27.92</td>\n",
       "    </tr>\n",
       "    <tr>\n",
       "      <th>male</th>\n",
       "      <td>30.73</td>\n",
       "    </tr>\n",
       "  </tbody>\n",
       "</table>\n",
       "</div>"
      ],
      "text/plain": [
       "       Age.MEAN\n",
       "Sex            \n",
       "female    27.92\n",
       "male      30.73"
      ]
     },
     "execution_count": 14,
     "metadata": {},
     "output_type": "execute_result"
    }
   ],
   "source": [
    "titanic_cube.query(m[\"Age.MEAN\"], levels=l[\"Sex\"])"
   ]
  },
  {
   "cell_type": "code",
   "execution_count": 66,
   "id": "051d191f-4656-422d-bf4d-27f48e794259",
   "metadata": {},
   "outputs": [],
   "source": [
    "mdx_query = \"\"\"\n",
    "SELECT {\n",
    "[Measures].[Age.MEAN], \n",
    "[Measures].[Fare.MEAN]\n",
    "} ON COLUMNS, \n",
    "{[Traintitanic].[Sex]} ON ROWS\n",
    "FROM [titanic]\n",
    "\"\"\""
   ]
  },
  {
   "cell_type": "code",
   "execution_count": 93,
   "id": "8f96d7ce-010d-4dd2-b8be-e3363b770fae",
   "metadata": {},
   "outputs": [],
   "source": [
    "mdx_query2 = \"\"\"\n",
    "SELECT {\n",
    "[Measures].[Age.MEAN], \n",
    "[Measures].[Fare.MEAN]\n",
    "} ON COLUMNS, \n",
    " NON EMPTY Crossjoin(\n",
    "{[Traintitanic].[Sex].[Sex].Members, \n",
    "[Traintitanic].[Survived].[Survived].Members}) ON ROWS\n",
    "FROM [titanic]\n",
    "\"\"\""
   ]
  },
  {
   "cell_type": "code",
   "execution_count": 89,
   "id": "83155474-07d9-4c23-b5e2-b20b8baff5cc",
   "metadata": {},
   "outputs": [],
   "source": [
    "\n",
    "\n",
    "mdx = \"\"\"SELECT\n",
    "  {\n",
    "    [Measures].[Price.AVG],\n",
    "    [Measures].[Quantity.SUM]\n",
    "  } ON COLUMNS,\n",
    "  NON EMPTY Crossjoin(\n",
    "    [Hierarchies].[Color].[Color].Members,\n",
    "    [Hierarchies].[Continent].[Continent].Members\n",
    "  ) ON ROWS\n",
    "  FROM [Cube]\n",
    "  \"\"\""
   ]
  },
  {
   "cell_type": "code",
   "execution_count": 90,
   "id": "33f46db6-9ca4-41d0-a94f-8445ded98c70",
   "metadata": {},
   "outputs": [
    {
     "data": {
      "application/json": {
       "Dimensions": {
        "Traintitanic": {
         "Cabin": [
          "Cabin"
         ],
         "Embarked": [
          "Embarked"
         ],
         "Name": [
          "Name"
         ],
         "Parch": [
          "Parch"
         ],
         "PassengerId": [
          "PassengerId"
         ],
         "Pclass": [
          "Pclass"
         ],
         "Sex": [
          "Sex"
         ],
         "SibSp": [
          "SibSp"
         ],
         "Survived": [
          "Survived"
         ],
         "Ticket": [
          "Ticket"
         ]
        }
       },
       "Measures": {
        "Age.MEAN": {
         "formatter": "DOUBLE[#,###.00]"
        },
        "Age.SUM": {
         "formatter": "DOUBLE[#,###.00]"
        },
        "Fare.MEAN": {
         "formatter": "DOUBLE[#,###.00]"
        },
        "Fare.SUM": {
         "formatter": "DOUBLE[#,###.00]"
        },
        "contributors.COUNT": {
         "formatter": "INT[#,###]"
        }
       }
      },
      "text/html": [
       "<ul>\n",
       "<li>titanic\n",
       "  <ul>\n",
       "  <li>Dimensions\n",
       "    <ul>\n",
       "    <li>Traintitanic\n",
       "      <ul>\n",
       "      <li>Cabin\n",
       "        <ol>\n",
       "        <li>Cabin</li>\n",
       "        </ol>      </li>\n",
       "      <li>Embarked\n",
       "        <ol>\n",
       "        <li>Embarked</li>\n",
       "        </ol>      </li>\n",
       "      <li>Name\n",
       "        <ol>\n",
       "        <li>Name</li>\n",
       "        </ol>      </li>\n",
       "      <li>Parch\n",
       "        <ol>\n",
       "        <li>Parch</li>\n",
       "        </ol>      </li>\n",
       "      <li>PassengerId\n",
       "        <ol>\n",
       "        <li>PassengerId</li>\n",
       "        </ol>      </li>\n",
       "      <li>Pclass\n",
       "        <ol>\n",
       "        <li>Pclass</li>\n",
       "        </ol>      </li>\n",
       "      <li>Sex\n",
       "        <ol>\n",
       "        <li>Sex</li>\n",
       "        </ol>      </li>\n",
       "      <li>SibSp\n",
       "        <ol>\n",
       "        <li>SibSp</li>\n",
       "        </ol>      </li>\n",
       "      <li>Survived\n",
       "        <ol>\n",
       "        <li>Survived</li>\n",
       "        </ol>      </li>\n",
       "      <li>Ticket\n",
       "        <ol>\n",
       "        <li>Ticket</li>\n",
       "        </ol>      </li>\n",
       "      </ul>\n",
       "    </li>\n",
       "    </ul>\n",
       "  </li>\n",
       "  <li>Measures\n",
       "    <ul>\n",
       "    <li>Age.MEAN\n",
       "      <ul>\n",
       "      <li>formatter: DOUBLE[#,###.00]</li>\n",
       "      </ul>\n",
       "    </li>\n",
       "    <li>Age.SUM\n",
       "      <ul>\n",
       "      <li>formatter: DOUBLE[#,###.00]</li>\n",
       "      </ul>\n",
       "    </li>\n",
       "    <li>Fare.MEAN\n",
       "      <ul>\n",
       "      <li>formatter: DOUBLE[#,###.00]</li>\n",
       "      </ul>\n",
       "    </li>\n",
       "    <li>Fare.SUM\n",
       "      <ul>\n",
       "      <li>formatter: DOUBLE[#,###.00]</li>\n",
       "      </ul>\n",
       "    </li>\n",
       "    <li>contributors.COUNT\n",
       "      <ul>\n",
       "      <li>formatter: INT[#,###]</li>\n",
       "      </ul>\n",
       "    </li>\n",
       "    </ul>\n",
       "  </li>\n",
       "  </ul>\n",
       "</li>\n",
       "</ul>\n"
      ],
      "text/plain": [
       "Cube(_name='titanic', _hierarchies=Hierarchies(), _measures=Measures())"
      ]
     },
     "execution_count": 90,
     "metadata": {
      "application/json": {
       "expanded": false,
       "root": "titanic"
      }
     },
     "output_type": "execute_result"
    }
   ],
   "source": [
    "titanic_cube"
   ]
  },
  {
   "cell_type": "code",
   "execution_count": 91,
   "id": "0d99eddb-7699-4c00-b73e-687db93e489f",
   "metadata": {},
   "outputs": [
    {
     "data": {
      "application/vnd.atoti.convert-query-result-to-widget.v0+json": {
       "mdx": "\nSELECT {\n[Measures].[Age.MEAN], \n[Measures].[Fare.MEAN]\n} ON COLUMNS, \n{[Traintitanic].[Sex]} ON ROWS\nFROM [titanic]\n",
       "sessionName": "Unnamed",
       "widgetCreationCode": "session.visualize()"
      },
      "text/html": [
       "<div>\n",
       "<style scoped>\n",
       "    .dataframe tbody tr th:only-of-type {\n",
       "        vertical-align: middle;\n",
       "    }\n",
       "\n",
       "    .dataframe tbody tr th {\n",
       "        vertical-align: top;\n",
       "    }\n",
       "\n",
       "    .dataframe thead th {\n",
       "        text-align: right;\n",
       "    }\n",
       "</style>\n",
       "<table border=\"1\" class=\"dataframe\">\n",
       "  <thead>\n",
       "    <tr style=\"text-align: right;\">\n",
       "      <th></th>\n",
       "      <th>Age.MEAN</th>\n",
       "      <th>Fare.MEAN</th>\n",
       "    </tr>\n",
       "  </thead>\n",
       "  <tbody>\n",
       "    <tr>\n",
       "      <th>0</th>\n",
       "      <td>29.70</td>\n",
       "      <td>32.20</td>\n",
       "    </tr>\n",
       "  </tbody>\n",
       "</table>\n",
       "</div>"
      ],
      "text/plain": [
       "  Age.MEAN Fare.MEAN\n",
       "0    29.70     32.20"
      ]
     },
     "execution_count": 91,
     "metadata": {},
     "output_type": "execute_result"
    }
   ],
   "source": [
    "session.query_mdx(mdx_query)"
   ]
  },
  {
   "cell_type": "code",
   "execution_count": 94,
   "id": "1e9c3f9e-427e-4975-bf5e-c072bbaf2af1",
   "metadata": {},
   "outputs": [
    {
     "ename": "RuntimeError",
     "evalue": "('Request failed', {'status': 'error', 'error': {'errorChain': [{'type': 'MdxException', 'message': 'No matching signature for Crossjoin({[Traintitanic].[Sex].[Sex].Members, [Traintitanic].[Survived].[Survived].Members}). Available signatures are: Crossjoin(<Set> ...)'}, {'type': 'MdxException', 'message': 'Failed resolution of expression: Crossjoin({[Traintitanic].[Sex].[Sex].Members, [Traintitanic].[Survived].[Survived].Members})'}, {'type': 'MdxException', 'message': ' SELECT { [Measures].[Age.MEAN],  [Measures].[Fare.MEAN] } ON COLUMNS,   NON EMPTY Crossjoin( {[Traintitanic].[Sex].[Sex].Members,  [Traintitanic].[Survived].[Survived].Members}) ON ROWS FROM [titanic] '}, {'type': 'QueryException', 'message': 'ActivePivotSyncActionQuery: action=MdxAction (mdx= SELECT { [Measures].[Age.MEAN],  [Measures].[Fare.MEAN] } ON COLUMNS,   NON EMPTY Crossjoin( {[Traintitanic].[Sex].[Sex].Members,  [Traintitanic].[Survived].[Survived].Members}) ON ROWS FROM [titanic] ), argument=com.quartetfs.pivot.mdx.impl.BasicSelectExecutor@152b9fa6'}, {'type': 'RuntimeException', 'message': 'com.quartetfs.fwk.query.QueryException: ActivePivotSyncActionQuery: action=MdxAction (mdx= SELECT { [Measures].[Age.MEAN],  [Measures].[Fare.MEAN] } ON COLUMNS,   NON EMPTY Crossjoin( {[Traintitanic].[Sex].[Sex].Members,  [Traintitanic].[Survived].[Survived].Members}) ON ROWS FROM [titanic] ), argument=com.quartetfs.pivot.mdx.impl.BasicSelectExecutor@152b9fa6'}, {'type': 'RuntimeException', 'message': 'java.lang.RuntimeException: com.quartetfs.fwk.query.QueryException: ActivePivotSyncActionQuery: action=MdxAction (mdx= SELECT { [Measures].[Age.MEAN],  [Measures].[Fare.MEAN] } ON COLUMNS,   NON EMPTY Crossjoin( {[Traintitanic].[Sex].[Sex].Members,  [Traintitanic].[Survived].[Survived].Members}) ON ROWS FROM [titanic] ), argument=com.quartetfs.pivot.mdx.impl.BasicSelectExecutor@152b9fa6'}, {'type': 'QueryException', 'message': 'Could not execute query at epoch 1. : ActivePivotSyncActionQuery: action=MdxAction (mdx= SELECT { [Measures].[Age.MEAN],  [Measures].[Fare.MEAN] } ON COLUMNS,   NON EMPTY Crossjoin( {[Traintitanic].[Sex].[Sex].Members,  [Traintitanic].[Survived].[Survived].Members}) ON ROWS FROM [titanic] ), argument=com.quartetfs.pivot.mdx.impl.BasicSelectExecutor@152b9fa6'}, {'type': 'MdxException', 'message': 'Error with the following query:  SELECT { [Measures].[Age.MEAN],  [Measures].[Fare.MEAN] } ON COLUMNS,   NON EMPTY Crossjoin( {[Traintitanic].[Sex].[Sex].Members,  [Traintitanic].[Survived].[Survived].Members}) ON ROWS FROM [titanic] '}, {'type': 'BadArgumentException', 'message': '[400] com.quartetfs.pivot.mdx.MdxException: Error with the following query:  SELECT { [Measures].[Age.MEAN],  [Measures].[Fare.MEAN] } ON COLUMNS,   NON EMPTY Crossjoin( {[Traintitanic].[Sex].[Sex].Members,  [Traintitanic].[Survived].[Survived].Members}) ON ROWS FROM [titanic] '}], 'stackTrace': 'com.qfs.fwk.services.BadArgumentException: [400] com.quartetfs.pivot.mdx.MdxException: Error with the following query:  SELECT { [Measures].[Age.MEAN],  [Measures].[Fare.MEAN] } ON COLUMNS,   NON EMPTY Crossjoin( {[Traintitanic].[Sex].[Sex].Members,  [Traintitanic].[Survived].[Survived].Members}) ON ROWS FROM [titanic] \\n\\tat com.qfs.pivot.rest.query.impl.JsonQueryService.executeQuery(JsonQueryService.java:215)\\n\\tat com.qfs.pivot.rest.query.impl.JsonQueryService.executeMdxQuery(JsonQueryService.java:108)\\n\\tat com.qfs.pivot.rest.query.impl.QueriesRestService.mdxQuery(QueriesRestService.java:66)\\n\\tat jdk.internal.reflect.GeneratedMethodAccessor132.invoke(Unknown Source)\\n\\tat java.base/jdk.internal.reflect.DelegatingMethodAccessorImpl.invoke(Unknown Source)\\n\\tat java.base/java.lang.reflect.Method.invoke(Unknown Source)\\n\\tat org.apache.cxf.service.invoker.AbstractInvoker.performInvocation(AbstractInvoker.java:179)\\n\\tat org.apache.cxf.service.invoker.AbstractInvoker.invoke(AbstractInvoker.java:96)\\n\\tat org.apache.cxf.jaxrs.JAXRSInvoker.invoke(JAXRSInvoker.java:201)\\n\\tat org.apache.cxf.jaxrs.JAXRSInvoker.invoke(JAXRSInvoker.java:104)\\n\\tat org.apache.cxf.interceptor.ServiceInvokerInterceptor$1.run(ServiceInvokerInterceptor.java:59)\\n\\tat org.apache.cxf.interceptor.ServiceInvokerInterceptor.handleMessage(ServiceInvokerInterceptor.java:96)\\n\\tat org.apache.cxf.phase.PhaseInterceptorChain.doIntercept(PhaseInterceptorChain.java:308)\\n\\tat org.apache.cxf.transport.ChainInitiationObserver.onMessage(ChainInitiationObserver.java:121)\\n\\tat org.apache.cxf.transport.http.AbstractHTTPDestination.invoke(AbstractHTTPDestination.java:267)\\n\\tat org.apache.cxf.transport.servlet.ServletController.invokeDestination(ServletController.java:234)\\n\\tat org.apache.cxf.transport.servlet.ServletController.invoke(ServletController.java:208)\\n\\tat org.apache.cxf.transport.servlet.ServletController.invoke(ServletController.java:160)\\n\\tat org.apache.cxf.transport.servlet.CXFNonSpringServlet.invoke(CXFNonSpringServlet.java:225)\\n\\tat org.apache.cxf.transport.servlet.AbstractHTTPServlet.handleRequest(AbstractHTTPServlet.java:301)\\n\\tat org.apache.cxf.transport.servlet.AbstractHTTPServlet.doPost(AbstractHTTPServlet.java:220)\\n\\tat javax.servlet.http.HttpServlet.service(HttpServlet.java:665)\\n\\tat org.apache.cxf.transport.servlet.AbstractHTTPServlet.service(AbstractHTTPServlet.java:276)\\n\\tat org.springframework.web.servlet.mvc.ServletWrappingController.handleRequestInternal(ServletWrappingController.java:166)\\n\\tat org.springframework.web.servlet.mvc.AbstractController.handleRequest(AbstractController.java:177)\\n\\tat org.springframework.web.servlet.mvc.SimpleControllerHandlerAdapter.handle(SimpleControllerHandlerAdapter.java:52)\\n\\tat org.springframework.web.servlet.DispatcherServlet.doDispatch(DispatcherServlet.java:1060)\\n\\tat org.springframework.web.servlet.DispatcherServlet.doService(DispatcherServlet.java:962)\\n\\tat org.springframework.web.servlet.FrameworkServlet.processRequest(FrameworkServlet.java:1006)\\n\\tat org.springframework.web.servlet.FrameworkServlet.doPost(FrameworkServlet.java:909)\\n\\tat javax.servlet.http.HttpServlet.service(HttpServlet.java:665)\\n\\tat org.springframework.web.servlet.FrameworkServlet.service(FrameworkServlet.java:883)\\n\\tat javax.servlet.http.HttpServlet.service(HttpServlet.java:750)\\n\\tat org.apache.catalina.core.ApplicationFilterChain.internalDoFilter(ApplicationFilterChain.java:231)\\n\\tat org.apache.catalina.core.ApplicationFilterChain.doFilter(ApplicationFilterChain.java:166)\\n\\tat org.apache.tomcat.websocket.server.WsFilter.doFilter(WsFilter.java:53)\\n\\tat org.apache.catalina.core.ApplicationFilterChain.internalDoFilter(ApplicationFilterChain.java:193)\\n\\tat org.apache.catalina.core.ApplicationFilterChain.doFilter(ApplicationFilterChain.java:166)\\n\\tat com.qfs.pivot.servlet.impl.ContextValueFilter.doFilter(ContextValueFilter.java:67)\\n\\tat org.apache.catalina.core.ApplicationFilterChain.internalDoFilter(ApplicationFilterChain.java:193)\\n\\tat org.apache.catalina.core.ApplicationFilterChain.doFilter(ApplicationFilterChain.java:166)\\n\\tat org.springframework.web.filter.CorsFilter.doFilterInternal(CorsFilter.java:91)\\n\\tat org.springframework.web.filter.OncePerRequestFilter.doFilter(OncePerRequestFilter.java:119)\\n\\tat org.apache.catalina.core.ApplicationFilterChain.internalDoFilter(ApplicationFilterChain.java:193)\\n\\tat org.apache.catalina.core.ApplicationFilterChain.doFilter(ApplicationFilterChain.java:166)\\n\\tat org.springframework.web.filter.CharacterEncodingFilter.doFilterInternal(CharacterEncodingFilter.java:201)\\n\\tat org.springframework.web.filter.OncePerRequestFilter.doFilter(OncePerRequestFilter.java:119)\\n\\tat org.apache.catalina.core.ApplicationFilterChain.internalDoFilter(ApplicationFilterChain.java:193)\\n\\tat org.apache.catalina.core.ApplicationFilterChain.doFilter(ApplicationFilterChain.java:166)\\n\\tat org.apache.catalina.core.StandardWrapperValve.invoke(StandardWrapperValve.java:202)\\n\\tat org.apache.catalina.core.StandardContextValve.invoke(StandardContextValve.java:97)\\n\\tat org.apache.catalina.authenticator.AuthenticatorBase.invoke(AuthenticatorBase.java:542)\\n\\tat org.apache.catalina.core.StandardHostValve.invoke(StandardHostValve.java:143)\\n\\tat org.apache.catalina.valves.ErrorReportValve.invoke(ErrorReportValve.java:92)\\n\\tat org.apache.catalina.core.StandardEngineValve.invoke(StandardEngineValve.java:78)\\n\\tat org.apache.catalina.connector.CoyoteAdapter.service(CoyoteAdapter.java:343)\\n\\tat org.apache.coyote.http11.Http11Processor.service(Http11Processor.java:374)\\n\\tat org.apache.coyote.AbstractProcessorLight.process(AbstractProcessorLight.java:65)\\n\\tat org.apache.coyote.AbstractProtocol$ConnectionHandler.process(AbstractProtocol.java:888)\\n\\tat org.apache.tomcat.util.net.NioEndpoint$SocketProcessor.doRun(NioEndpoint.java:1597)\\n\\tat org.apache.tomcat.util.net.SocketProcessorBase.run(SocketProcessorBase.java:49)\\n\\tat java.base/java.util.concurrent.ThreadPoolExecutor.runWorker(Unknown Source)\\n\\tat java.base/java.util.concurrent.ThreadPoolExecutor$Worker.run(Unknown Source)\\n\\tat org.apache.tomcat.util.threads.TaskThread$WrappingRunnable.run(TaskThread.java:61)\\n\\tat java.base/java.lang.Thread.run(Unknown Source)\\nCaused by: com.quartetfs.pivot.mdx.MdxException: Error with the following query:  SELECT { [Measures].[Age.MEAN],  [Measures].[Fare.MEAN] } ON COLUMNS,   NON EMPTY Crossjoin( {[Traintitanic].[Sex].[Sex].Members,  [Traintitanic].[Survived].[Survived].Members}) ON ROWS FROM [titanic] \\n\\tat com.quartetfs.pivot.mdx.impl.ASelectStatementExecutor.executeAfterParse(ASelectStatementExecutor.java:425)\\n\\tat com.quartetfs.pivot.mdx.impl.ASelectStatementExecutor.executeAfterParse(ASelectStatementExecutor.java:407)\\n\\tat com.quartetfs.pivot.mdx.impl.ASelectStatementExecutor.execute(ASelectStatementExecutor.java:396)\\n\\tat com.qfs.pivot.rest.query.impl.JsonQueryService$JsonSelectExecutor.execute(JsonQueryService.java:316)\\n\\tat com.qfs.pivot.rest.query.impl.JsonQueryService$JsonSelectExecutor.execute(JsonQueryService.java:294)\\n\\tat com.qfs.pivot.rest.query.impl.JsonQueryService.executeQuery(JsonQueryService.java:210)\\n\\t... 64 more\\nCaused by: com.quartetfs.fwk.query.QueryException: Could not execute query at epoch 1. : ActivePivotSyncActionQuery: action=MdxAction (mdx= SELECT { [Measures].[Age.MEAN],  [Measures].[Fare.MEAN] } ON COLUMNS,   NON EMPTY Crossjoin( {[Traintitanic].[Sex].[Sex].Members,  [Traintitanic].[Survived].[Survived].Members}) ON ROWS FROM [titanic] ), argument=com.quartetfs.pivot.mdx.impl.BasicSelectExecutor@152b9fa6\\n\\tat com.quartetfs.biz.pivot.impl.ActivePivotVersion$QueryExecutionTask.getWithQueriesTimeLimit(ActivePivotVersion.java:1535)\\n\\tat com.quartetfs.biz.pivot.impl.ActivePivotVersion.execute(ActivePivotVersion.java:948)\\n\\tat com.quartetfs.biz.pivot.query.impl.ActivePivotSyncUtils.activePivotSyncExec(ActivePivotSyncUtils.java:94)\\n\\tat com.quartetfs.pivot.mdx.impl.ASelectStatementExecutor.executeAfterParse(ASelectStatementExecutor.java:423)\\n\\t... 69 more\\nCaused by: java.lang.RuntimeException: java.lang.RuntimeException: com.quartetfs.fwk.query.QueryException: ActivePivotSyncActionQuery: action=MdxAction (mdx= SELECT { [Measures].[Age.MEAN],  [Measures].[Fare.MEAN] } ON COLUMNS,   NON EMPTY Crossjoin( {[Traintitanic].[Sex].[Sex].Members,  [Traintitanic].[Survived].[Survived].Members}) ON ROWS FROM [titanic] ), argument=com.quartetfs.pivot.mdx.impl.BasicSelectExecutor@152b9fa6\\n\\tat java.base/jdk.internal.reflect.NativeConstructorAccessorImpl.newInstance0(Native Method)\\n\\tat java.base/jdk.internal.reflect.NativeConstructorAccessorImpl.newInstance(Unknown Source)\\n\\tat java.base/jdk.internal.reflect.DelegatingConstructorAccessorImpl.newInstance(Unknown Source)\\n\\tat java.base/java.lang.reflect.Constructor.newInstance(Unknown Source)\\n\\tat java.base/java.util.concurrent.ForkJoinTask.getThrowableException(Unknown Source)\\n\\tat java.base/java.util.concurrent.ForkJoinTask.get(Unknown Source)\\n\\tat com.quartetfs.biz.pivot.impl.ActivePivotVersion$QueryExecutionTask.getWithQueriesTimeLimit(ActivePivotVersion.java:1506)\\n\\t... 72 more\\nCaused by: java.lang.RuntimeException: com.quartetfs.fwk.query.QueryException: ActivePivotSyncActionQuery: action=MdxAction (mdx= SELECT { [Measures].[Age.MEAN],  [Measures].[Fare.MEAN] } ON COLUMNS,   NON EMPTY Crossjoin( {[Traintitanic].[Sex].[Sex].Members,  [Traintitanic].[Survived].[Survived].Members}) ON ROWS FROM [titanic] ), argument=com.quartetfs.pivot.mdx.impl.BasicSelectExecutor@152b9fa6\\n\\tat java.base/java.util.concurrent.ForkJoinTask.completeExceptionally(Unknown Source)\\n\\tat com.qfs.concurrent.cancellable.impl.CancellableCountedCompleter.performExceptionalCompletion(CancellableCountedCompleter.java:291)\\n\\tat com.qfs.concurrent.cancellable.impl.CancellableCountedCompleter.onCompletion(CancellableCountedCompleter.java:278)\\n\\tat java.base/java.util.concurrent.CountedCompleter.tryComplete(Unknown Source)\\n\\tat com.quartetfs.biz.pivot.impl.ActivePivotVersion$QueryExecutionTask.afterCompute(ActivePivotVersion.java:1389)\\n\\tat com.qfs.concurrent.cancellable.impl.CancellableCountedCompleter.afterExec(CancellableCountedCompleter.java:157)\\n\\tat com.quartetfs.biz.pivot.context.impl.ContextualCancellableCountedCompleter.afterExec(ContextualCancellableCountedCompleter.java:124)\\n\\tat com.qfs.concurrent.cancellable.impl.CancellableCountedCompleter.compute(CancellableCountedCompleter.java:181)\\n\\tat java.base/java.util.concurrent.CountedCompleter.exec(Unknown Source)\\n\\tat java.base/java.util.concurrent.ForkJoinTask.doExec(Unknown Source)\\n\\tat java.base/java.util.concurrent.ForkJoinPool$WorkQueue.topLevelExec(Unknown Source)\\n\\tat java.base/java.util.concurrent.ForkJoinPool.scan(Unknown Source)\\n\\tat java.base/java.util.concurrent.ForkJoinPool.runWorker(Unknown Source)\\n\\tat java.base/java.util.concurrent.ForkJoinWorkerThread.run(Unknown Source)\\nCaused by: com.quartetfs.fwk.query.QueryException: ActivePivotSyncActionQuery: action=MdxAction (mdx= SELECT { [Measures].[Age.MEAN],  [Measures].[Fare.MEAN] } ON COLUMNS,   NON EMPTY Crossjoin( {[Traintitanic].[Sex].[Sex].Members,  [Traintitanic].[Survived].[Survived].Members}) ON ROWS FROM [titanic] ), argument=com.quartetfs.pivot.mdx.impl.BasicSelectExecutor@152b9fa6\\n\\tat com.quartetfs.biz.pivot.query.impl.ActivePivotSyncActionAttachedQuery.executeAsync(ActivePivotSyncActionAttachedQuery.java:59)\\n\\tat com.quartetfs.biz.pivot.impl.AActivePivotQueryExecutor.executeAsync(AActivePivotQueryExecutor.java:33)\\n\\tat com.quartetfs.biz.pivot.impl.ActivePivotVersion.executeAttachedAsync(ActivePivotVersion.java:1132)\\n\\tat com.quartetfs.biz.pivot.impl.ActivePivotVersion$QueryExecutionTask.computeSafely(ActivePivotVersion.java:1378)\\n\\tat com.qfs.concurrent.cancellable.impl.CancellableCountedCompleter.execSafely(CancellableCountedCompleter.java:141)\\n\\tat com.quartetfs.biz.pivot.context.impl.ContextualCancellableCountedCompleter.execSafely(ContextualCancellableCountedCompleter.java:118)\\n\\tat com.qfs.concurrent.cancellable.impl.CancellableCountedCompleter.compute(CancellableCountedCompleter.java:171)\\n\\t... 6 more\\nCaused by: com.quartetfs.pivot.mdx.MdxException:  SELECT { [Measures].[Age.MEAN],  [Measures].[Fare.MEAN] } ON COLUMNS,   NON EMPTY Crossjoin( {[Traintitanic].[Sex].[Sex].Members,  [Traintitanic].[Survived].[Survived].Members}) ON ROWS FROM [titanic] \\n\\tat com.quartetfs.pivot.mdx.impl.ASelectStatementExecutor.resolve(ASelectStatementExecutor.java:239)\\n\\tat com.quartetfs.pivot.mdx.impl.ASelectStatementExecutor.noSyncExecuteAfterParse(ASelectStatementExecutor.java:462)\\n\\tat com.quartetfs.pivot.mdx.impl.ASelectStatementExecutor$MdxAction.execute(ASelectStatementExecutor.java:531)\\n\\tat com.quartetfs.pivot.mdx.impl.ASelectStatementExecutor$MdxAction.execute(ASelectStatementExecutor.java:511)\\n\\tat com.quartetfs.biz.pivot.query.impl.ActivePivotSyncUtils$AAction.execute(ActivePivotSyncUtils.java:205)\\n\\tat com.quartetfs.biz.pivot.query.impl.ActivePivotSyncActionAttachedQuery.executeAsync(ActivePivotSyncActionAttachedQuery.java:57)\\n\\t... 12 more\\nCaused by: com.quartetfs.pivot.mdx.MdxException: Failed resolution of expression: Crossjoin({[Traintitanic].[Sex].[Sex].Members, [Traintitanic].[Survived].[Survived].Members})\\n\\tat com.quartetfs.pivot.mdx.impl.SelectStatementResolver.resolve(SelectStatementResolver.java:164)\\n\\tat com.quartetfs.pivot.mdx.impl.SelectStatementResolver.resolveAxis(SelectStatementResolver.java:764)\\n\\tat com.quartetfs.pivot.mdx.impl.SelectStatementResolver.resolveNonSlicingAxes(SelectStatementResolver.java:743)\\n\\tat com.quartetfs.pivot.mdx.impl.SelectStatementResolver.resolveSelectBase(SelectStatementResolver.java:449)\\n\\tat com.quartetfs.pivot.mdx.impl.SelectStatementResolver.resolveSelect(SelectStatementResolver.java:257)\\n\\tat com.quartetfs.pivot.mdx.impl.SelectStatementResolver.resolve(SelectStatementResolver.java:205)\\n\\tat com.quartetfs.pivot.mdx.impl.ASelectStatementExecutor.doResolve(ASelectStatementExecutor.java:281)\\n\\tat com.quartetfs.pivot.mdx.impl.ASelectStatementExecutor.resolve(ASelectStatementExecutor.java:233)\\n\\t... 17 more\\nCaused by: com.quartetfs.pivot.mdx.MdxException: No matching signature for Crossjoin({[Traintitanic].[Sex].[Sex].Members, [Traintitanic].[Survived].[Survived].Members}). Available signatures are: Crossjoin(<Set> ...)\\n\\tat com.quartetfs.pivot.mdx.impl.SelectStatementResolver$ResolveVisitor.visit(SelectStatementResolver.java:1082)\\n\\tat com.quartetfs.pivot.mdx.impl.SelectStatementResolver$ResolveVisitor.visit(SelectStatementResolver.java:859)\\n\\tat com.quartetfs.pivot.mdx.impl.CachingVisitor.visit(CachingVisitor.java:85)\\n\\tat com.quartetfs.pivot.mdx.statement.impl.UnresolvedFunctionCall.accept(UnresolvedFunctionCall.java:58)\\n\\tat com.quartetfs.pivot.mdx.impl.SelectStatementResolver.resolve(SelectStatementResolver.java:162)\\n\\t... 24 more\\n'}})",
     "output_type": "error",
     "traceback": [
      "\u001b[0;31m---------------------------------------------------------------------------\u001b[0m",
      "\u001b[0;31mHTTPError\u001b[0m                                 Traceback (most recent call last)",
      "\u001b[0;32m~/miniconda3/envs/atoti/lib/python3.8/site-packages/atoti/query/session.py\u001b[0m in \u001b[0;36m_execute_json_request\u001b[0;34m(self, url, body)\u001b[0m\n\u001b[1;32m    174\u001b[0m         \u001b[0;32mtry\u001b[0m\u001b[0;34m:\u001b[0m\u001b[0;34m\u001b[0m\u001b[0;34m\u001b[0m\u001b[0m\n\u001b[0;32m--> 175\u001b[0;31m             \u001b[0mresponse\u001b[0m \u001b[0;34m=\u001b[0m \u001b[0murlopen\u001b[0m\u001b[0;34m(\u001b[0m\u001b[0mrequest\u001b[0m\u001b[0;34m)\u001b[0m  \u001b[0;31m# nosec\u001b[0m\u001b[0;34m\u001b[0m\u001b[0;34m\u001b[0m\u001b[0m\n\u001b[0m\u001b[1;32m    176\u001b[0m             \u001b[0;32mreturn\u001b[0m \u001b[0mjson\u001b[0m\u001b[0;34m.\u001b[0m\u001b[0mload\u001b[0m\u001b[0;34m(\u001b[0m\u001b[0mresponse\u001b[0m\u001b[0;34m)\u001b[0m\u001b[0;34m\u001b[0m\u001b[0;34m\u001b[0m\u001b[0m\n",
      "\u001b[0;32m~/miniconda3/envs/atoti/lib/python3.8/urllib/request.py\u001b[0m in \u001b[0;36murlopen\u001b[0;34m(url, data, timeout, cafile, capath, cadefault, context)\u001b[0m\n\u001b[1;32m    221\u001b[0m         \u001b[0mopener\u001b[0m \u001b[0;34m=\u001b[0m \u001b[0m_opener\u001b[0m\u001b[0;34m\u001b[0m\u001b[0;34m\u001b[0m\u001b[0m\n\u001b[0;32m--> 222\u001b[0;31m     \u001b[0;32mreturn\u001b[0m \u001b[0mopener\u001b[0m\u001b[0;34m.\u001b[0m\u001b[0mopen\u001b[0m\u001b[0;34m(\u001b[0m\u001b[0murl\u001b[0m\u001b[0;34m,\u001b[0m \u001b[0mdata\u001b[0m\u001b[0;34m,\u001b[0m \u001b[0mtimeout\u001b[0m\u001b[0;34m)\u001b[0m\u001b[0;34m\u001b[0m\u001b[0;34m\u001b[0m\u001b[0m\n\u001b[0m\u001b[1;32m    223\u001b[0m \u001b[0;34m\u001b[0m\u001b[0m\n",
      "\u001b[0;32m~/miniconda3/envs/atoti/lib/python3.8/urllib/request.py\u001b[0m in \u001b[0;36mopen\u001b[0;34m(self, fullurl, data, timeout)\u001b[0m\n\u001b[1;32m    530\u001b[0m             \u001b[0mmeth\u001b[0m \u001b[0;34m=\u001b[0m \u001b[0mgetattr\u001b[0m\u001b[0;34m(\u001b[0m\u001b[0mprocessor\u001b[0m\u001b[0;34m,\u001b[0m \u001b[0mmeth_name\u001b[0m\u001b[0;34m)\u001b[0m\u001b[0;34m\u001b[0m\u001b[0;34m\u001b[0m\u001b[0m\n\u001b[0;32m--> 531\u001b[0;31m             \u001b[0mresponse\u001b[0m \u001b[0;34m=\u001b[0m \u001b[0mmeth\u001b[0m\u001b[0;34m(\u001b[0m\u001b[0mreq\u001b[0m\u001b[0;34m,\u001b[0m \u001b[0mresponse\u001b[0m\u001b[0;34m)\u001b[0m\u001b[0;34m\u001b[0m\u001b[0;34m\u001b[0m\u001b[0m\n\u001b[0m\u001b[1;32m    532\u001b[0m \u001b[0;34m\u001b[0m\u001b[0m\n",
      "\u001b[0;32m~/miniconda3/envs/atoti/lib/python3.8/urllib/request.py\u001b[0m in \u001b[0;36mhttp_response\u001b[0;34m(self, request, response)\u001b[0m\n\u001b[1;32m    639\u001b[0m         \u001b[0;32mif\u001b[0m \u001b[0;32mnot\u001b[0m \u001b[0;34m(\u001b[0m\u001b[0;36m200\u001b[0m \u001b[0;34m<=\u001b[0m \u001b[0mcode\u001b[0m \u001b[0;34m<\u001b[0m \u001b[0;36m300\u001b[0m\u001b[0;34m)\u001b[0m\u001b[0;34m:\u001b[0m\u001b[0;34m\u001b[0m\u001b[0;34m\u001b[0m\u001b[0m\n\u001b[0;32m--> 640\u001b[0;31m             response = self.parent.error(\n\u001b[0m\u001b[1;32m    641\u001b[0m                 'http', request, response, code, msg, hdrs)\n",
      "\u001b[0;32m~/miniconda3/envs/atoti/lib/python3.8/urllib/request.py\u001b[0m in \u001b[0;36merror\u001b[0;34m(self, proto, *args)\u001b[0m\n\u001b[1;32m    568\u001b[0m             \u001b[0margs\u001b[0m \u001b[0;34m=\u001b[0m \u001b[0;34m(\u001b[0m\u001b[0mdict\u001b[0m\u001b[0;34m,\u001b[0m \u001b[0;34m'default'\u001b[0m\u001b[0;34m,\u001b[0m \u001b[0;34m'http_error_default'\u001b[0m\u001b[0;34m)\u001b[0m \u001b[0;34m+\u001b[0m \u001b[0morig_args\u001b[0m\u001b[0;34m\u001b[0m\u001b[0;34m\u001b[0m\u001b[0m\n\u001b[0;32m--> 569\u001b[0;31m             \u001b[0;32mreturn\u001b[0m \u001b[0mself\u001b[0m\u001b[0;34m.\u001b[0m\u001b[0m_call_chain\u001b[0m\u001b[0;34m(\u001b[0m\u001b[0;34m*\u001b[0m\u001b[0margs\u001b[0m\u001b[0;34m)\u001b[0m\u001b[0;34m\u001b[0m\u001b[0;34m\u001b[0m\u001b[0m\n\u001b[0m\u001b[1;32m    570\u001b[0m \u001b[0;34m\u001b[0m\u001b[0m\n",
      "\u001b[0;32m~/miniconda3/envs/atoti/lib/python3.8/urllib/request.py\u001b[0m in \u001b[0;36m_call_chain\u001b[0;34m(self, chain, kind, meth_name, *args)\u001b[0m\n\u001b[1;32m    501\u001b[0m             \u001b[0mfunc\u001b[0m \u001b[0;34m=\u001b[0m \u001b[0mgetattr\u001b[0m\u001b[0;34m(\u001b[0m\u001b[0mhandler\u001b[0m\u001b[0;34m,\u001b[0m \u001b[0mmeth_name\u001b[0m\u001b[0;34m)\u001b[0m\u001b[0;34m\u001b[0m\u001b[0;34m\u001b[0m\u001b[0m\n\u001b[0;32m--> 502\u001b[0;31m             \u001b[0mresult\u001b[0m \u001b[0;34m=\u001b[0m \u001b[0mfunc\u001b[0m\u001b[0;34m(\u001b[0m\u001b[0;34m*\u001b[0m\u001b[0margs\u001b[0m\u001b[0;34m)\u001b[0m\u001b[0;34m\u001b[0m\u001b[0;34m\u001b[0m\u001b[0m\n\u001b[0m\u001b[1;32m    503\u001b[0m             \u001b[0;32mif\u001b[0m \u001b[0mresult\u001b[0m \u001b[0;32mis\u001b[0m \u001b[0;32mnot\u001b[0m \u001b[0;32mNone\u001b[0m\u001b[0;34m:\u001b[0m\u001b[0;34m\u001b[0m\u001b[0;34m\u001b[0m\u001b[0m\n",
      "\u001b[0;32m~/miniconda3/envs/atoti/lib/python3.8/urllib/request.py\u001b[0m in \u001b[0;36mhttp_error_default\u001b[0;34m(self, req, fp, code, msg, hdrs)\u001b[0m\n\u001b[1;32m    648\u001b[0m     \u001b[0;32mdef\u001b[0m \u001b[0mhttp_error_default\u001b[0m\u001b[0;34m(\u001b[0m\u001b[0mself\u001b[0m\u001b[0;34m,\u001b[0m \u001b[0mreq\u001b[0m\u001b[0;34m,\u001b[0m \u001b[0mfp\u001b[0m\u001b[0;34m,\u001b[0m \u001b[0mcode\u001b[0m\u001b[0;34m,\u001b[0m \u001b[0mmsg\u001b[0m\u001b[0;34m,\u001b[0m \u001b[0mhdrs\u001b[0m\u001b[0;34m)\u001b[0m\u001b[0;34m:\u001b[0m\u001b[0;34m\u001b[0m\u001b[0;34m\u001b[0m\u001b[0m\n\u001b[0;32m--> 649\u001b[0;31m         \u001b[0;32mraise\u001b[0m \u001b[0mHTTPError\u001b[0m\u001b[0;34m(\u001b[0m\u001b[0mreq\u001b[0m\u001b[0;34m.\u001b[0m\u001b[0mfull_url\u001b[0m\u001b[0;34m,\u001b[0m \u001b[0mcode\u001b[0m\u001b[0;34m,\u001b[0m \u001b[0mmsg\u001b[0m\u001b[0;34m,\u001b[0m \u001b[0mhdrs\u001b[0m\u001b[0;34m,\u001b[0m \u001b[0mfp\u001b[0m\u001b[0;34m)\u001b[0m\u001b[0;34m\u001b[0m\u001b[0;34m\u001b[0m\u001b[0m\n\u001b[0m\u001b[1;32m    650\u001b[0m \u001b[0;34m\u001b[0m\u001b[0m\n",
      "\u001b[0;31mHTTPError\u001b[0m: HTTP Error 400: ",
      "\nThe above exception was the direct cause of the following exception:\n",
      "\u001b[0;31mRuntimeError\u001b[0m                              Traceback (most recent call last)",
      "\u001b[0;32m<ipython-input-94-2e16a51d3ab8>\u001b[0m in \u001b[0;36m<module>\u001b[0;34m\u001b[0m\n\u001b[0;32m----> 1\u001b[0;31m \u001b[0msession\u001b[0m\u001b[0;34m.\u001b[0m\u001b[0mquery_mdx\u001b[0m\u001b[0;34m(\u001b[0m\u001b[0mmdx_query2\u001b[0m\u001b[0;34m)\u001b[0m\u001b[0;34m\u001b[0m\u001b[0;34m\u001b[0m\u001b[0m\n\u001b[0m",
      "\u001b[0;32m~/miniconda3/envs/atoti/lib/python3.8/site-packages/atoti/_type_utils.py\u001b[0m in \u001b[0;36mtypechecked_func_wrapper\u001b[0;34m(*args, **kwargs)\u001b[0m\n\u001b[1;32m    194\u001b[0m \u001b[0;34m\u001b[0m\u001b[0m\n\u001b[1;32m    195\u001b[0m             \u001b[0;31m# Call the actual function.\u001b[0m\u001b[0;34m\u001b[0m\u001b[0;34m\u001b[0m\u001b[0;34m\u001b[0m\u001b[0m\n\u001b[0;32m--> 196\u001b[0;31m             \u001b[0;32mreturn\u001b[0m \u001b[0mself\u001b[0m\u001b[0;34m.\u001b[0m\u001b[0m_func\u001b[0m\u001b[0;34m(\u001b[0m\u001b[0;34m*\u001b[0m\u001b[0margs\u001b[0m\u001b[0;34m,\u001b[0m \u001b[0;34m**\u001b[0m\u001b[0mkwargs\u001b[0m\u001b[0;34m)\u001b[0m\u001b[0;34m\u001b[0m\u001b[0;34m\u001b[0m\u001b[0m\n\u001b[0m\u001b[1;32m    197\u001b[0m \u001b[0;34m\u001b[0m\u001b[0m\n\u001b[1;32m    198\u001b[0m         \u001b[0;31m# Mark the function as typechecked and return it.\u001b[0m\u001b[0;34m\u001b[0m\u001b[0;34m\u001b[0m\u001b[0;34m\u001b[0m\u001b[0m\n",
      "\u001b[0;32m~/miniconda3/envs/atoti/lib/python3.8/site-packages/atoti/_docs_utils.py\u001b[0m in \u001b[0;36mwrapper\u001b[0;34m(*args, **kwargs)\u001b[0m\n\u001b[1;32m     14\u001b[0m         \u001b[0;34m@\u001b[0m\u001b[0mwraps\u001b[0m\u001b[0;34m(\u001b[0m\u001b[0mfunc\u001b[0m\u001b[0;34m)\u001b[0m\u001b[0;34m\u001b[0m\u001b[0;34m\u001b[0m\u001b[0m\n\u001b[1;32m     15\u001b[0m         \u001b[0;32mdef\u001b[0m \u001b[0mwrapper\u001b[0m\u001b[0;34m(\u001b[0m\u001b[0;34m*\u001b[0m\u001b[0margs\u001b[0m\u001b[0;34m:\u001b[0m \u001b[0mAny\u001b[0m\u001b[0;34m,\u001b[0m \u001b[0;34m**\u001b[0m\u001b[0mkwargs\u001b[0m\u001b[0;34m:\u001b[0m \u001b[0mAny\u001b[0m\u001b[0;34m)\u001b[0m \u001b[0;34m->\u001b[0m \u001b[0mCallable\u001b[0m\u001b[0;34m:\u001b[0m\u001b[0;34m\u001b[0m\u001b[0;34m\u001b[0m\u001b[0m\n\u001b[0;32m---> 16\u001b[0;31m             \u001b[0;32mreturn\u001b[0m \u001b[0mfunc\u001b[0m\u001b[0;34m(\u001b[0m\u001b[0;34m*\u001b[0m\u001b[0margs\u001b[0m\u001b[0;34m,\u001b[0m \u001b[0;34m**\u001b[0m\u001b[0mkwargs\u001b[0m\u001b[0;34m)\u001b[0m\u001b[0;34m\u001b[0m\u001b[0;34m\u001b[0m\u001b[0m\n\u001b[0m\u001b[1;32m     17\u001b[0m \u001b[0;34m\u001b[0m\u001b[0m\n\u001b[1;32m     18\u001b[0m         \u001b[0;31m# Collecting docstring and docstring templates\u001b[0m\u001b[0;34m\u001b[0m\u001b[0;34m\u001b[0m\u001b[0;34m\u001b[0m\u001b[0m\n",
      "\u001b[0;32m~/miniconda3/envs/atoti/lib/python3.8/site-packages/atoti/_local_session.py\u001b[0m in \u001b[0;36mquery_mdx\u001b[0;34m(self, mdx, keep_totals, timeout)\u001b[0m\n\u001b[1;32m    256\u001b[0m         \u001b[0mself\u001b[0m\u001b[0;34m,\u001b[0m \u001b[0mmdx\u001b[0m\u001b[0;34m:\u001b[0m \u001b[0mstr\u001b[0m\u001b[0;34m,\u001b[0m \u001b[0;34m*\u001b[0m\u001b[0;34m,\u001b[0m \u001b[0mkeep_totals\u001b[0m\u001b[0;34m:\u001b[0m \u001b[0mbool\u001b[0m \u001b[0;34m=\u001b[0m \u001b[0;32mFalse\u001b[0m\u001b[0;34m,\u001b[0m \u001b[0mtimeout\u001b[0m\u001b[0;34m:\u001b[0m \u001b[0mint\u001b[0m \u001b[0;34m=\u001b[0m \u001b[0;36m30\u001b[0m\u001b[0;34m\u001b[0m\u001b[0;34m\u001b[0m\u001b[0m\n\u001b[1;32m    257\u001b[0m     ) -> QueryResult:\n\u001b[0;32m--> 258\u001b[0;31m         return self._open_transient_query_session().query_mdx(\n\u001b[0m\u001b[1;32m    259\u001b[0m             \u001b[0mmdx\u001b[0m\u001b[0;34m,\u001b[0m\u001b[0;34m\u001b[0m\u001b[0;34m\u001b[0m\u001b[0m\n\u001b[1;32m    260\u001b[0m             get_level_data_types=lambda cube_name, levels_coordinates: self.cubes[\n",
      "\u001b[0;32m~/miniconda3/envs/atoti/lib/python3.8/site-packages/atoti/_type_utils.py\u001b[0m in \u001b[0;36mtypechecked_func_wrapper\u001b[0;34m(*args, **kwargs)\u001b[0m\n\u001b[1;32m    194\u001b[0m \u001b[0;34m\u001b[0m\u001b[0m\n\u001b[1;32m    195\u001b[0m             \u001b[0;31m# Call the actual function.\u001b[0m\u001b[0;34m\u001b[0m\u001b[0;34m\u001b[0m\u001b[0;34m\u001b[0m\u001b[0m\n\u001b[0;32m--> 196\u001b[0;31m             \u001b[0;32mreturn\u001b[0m \u001b[0mself\u001b[0m\u001b[0;34m.\u001b[0m\u001b[0m_func\u001b[0m\u001b[0;34m(\u001b[0m\u001b[0;34m*\u001b[0m\u001b[0margs\u001b[0m\u001b[0;34m,\u001b[0m \u001b[0;34m**\u001b[0m\u001b[0mkwargs\u001b[0m\u001b[0;34m)\u001b[0m\u001b[0;34m\u001b[0m\u001b[0;34m\u001b[0m\u001b[0m\n\u001b[0m\u001b[1;32m    197\u001b[0m \u001b[0;34m\u001b[0m\u001b[0m\n\u001b[1;32m    198\u001b[0m         \u001b[0;31m# Mark the function as typechecked and return it.\u001b[0m\u001b[0;34m\u001b[0m\u001b[0;34m\u001b[0m\u001b[0;34m\u001b[0m\u001b[0m\n",
      "\u001b[0;32m~/miniconda3/envs/atoti/lib/python3.8/site-packages/atoti/_docs_utils.py\u001b[0m in \u001b[0;36mwrapper\u001b[0;34m(*args, **kwargs)\u001b[0m\n\u001b[1;32m     14\u001b[0m         \u001b[0;34m@\u001b[0m\u001b[0mwraps\u001b[0m\u001b[0;34m(\u001b[0m\u001b[0mfunc\u001b[0m\u001b[0;34m)\u001b[0m\u001b[0;34m\u001b[0m\u001b[0;34m\u001b[0m\u001b[0m\n\u001b[1;32m     15\u001b[0m         \u001b[0;32mdef\u001b[0m \u001b[0mwrapper\u001b[0m\u001b[0;34m(\u001b[0m\u001b[0;34m*\u001b[0m\u001b[0margs\u001b[0m\u001b[0;34m:\u001b[0m \u001b[0mAny\u001b[0m\u001b[0;34m,\u001b[0m \u001b[0;34m**\u001b[0m\u001b[0mkwargs\u001b[0m\u001b[0;34m:\u001b[0m \u001b[0mAny\u001b[0m\u001b[0;34m)\u001b[0m \u001b[0;34m->\u001b[0m \u001b[0mCallable\u001b[0m\u001b[0;34m:\u001b[0m\u001b[0;34m\u001b[0m\u001b[0;34m\u001b[0m\u001b[0m\n\u001b[0;32m---> 16\u001b[0;31m             \u001b[0;32mreturn\u001b[0m \u001b[0mfunc\u001b[0m\u001b[0;34m(\u001b[0m\u001b[0;34m*\u001b[0m\u001b[0margs\u001b[0m\u001b[0;34m,\u001b[0m \u001b[0;34m**\u001b[0m\u001b[0mkwargs\u001b[0m\u001b[0;34m)\u001b[0m\u001b[0;34m\u001b[0m\u001b[0;34m\u001b[0m\u001b[0m\n\u001b[0m\u001b[1;32m     17\u001b[0m \u001b[0;34m\u001b[0m\u001b[0m\n\u001b[1;32m     18\u001b[0m         \u001b[0;31m# Collecting docstring and docstring templates\u001b[0m\u001b[0;34m\u001b[0m\u001b[0;34m\u001b[0m\u001b[0;34m\u001b[0m\u001b[0m\n",
      "\u001b[0;32m~/miniconda3/envs/atoti/lib/python3.8/site-packages/atoti/query/session.py\u001b[0m in \u001b[0;36mquery_mdx\u001b[0;34m(self, mdx, keep_totals, timeout, **kwargs)\u001b[0m\n\u001b[1;32m    223\u001b[0m         \u001b[0;32mif\u001b[0m \u001b[0mtimeout\u001b[0m \u001b[0;32mis\u001b[0m \u001b[0;32mnot\u001b[0m \u001b[0;32mNone\u001b[0m\u001b[0;34m:\u001b[0m\u001b[0;34m\u001b[0m\u001b[0;34m\u001b[0m\u001b[0m\n\u001b[1;32m    224\u001b[0m             \u001b[0mcontext\u001b[0m \u001b[0;34m=\u001b[0m \u001b[0;34m{\u001b[0m\u001b[0;34m**\u001b[0m\u001b[0mcontext\u001b[0m\u001b[0;34m,\u001b[0m \u001b[0;34m\"queriesTimeLimit\"\u001b[0m\u001b[0;34m:\u001b[0m \u001b[0mtimeout\u001b[0m\u001b[0;34m}\u001b[0m\u001b[0;34m\u001b[0m\u001b[0;34m\u001b[0m\u001b[0m\n\u001b[0;32m--> 225\u001b[0;31m         \u001b[0mcellset\u001b[0m \u001b[0;34m=\u001b[0m \u001b[0mself\u001b[0m\u001b[0;34m.\u001b[0m\u001b[0m_query_mdx_to_cellset\u001b[0m\u001b[0;34m(\u001b[0m\u001b[0mmdx\u001b[0m\u001b[0;34m,\u001b[0m \u001b[0mcontext\u001b[0m\u001b[0;34m=\u001b[0m\u001b[0mcontext\u001b[0m\u001b[0;34m)\u001b[0m\u001b[0;34m\u001b[0m\u001b[0;34m\u001b[0m\u001b[0m\n\u001b[0m\u001b[1;32m    226\u001b[0m         query_result = cellset_to_query_result(\n\u001b[1;32m    227\u001b[0m             \u001b[0mcellset\u001b[0m\u001b[0;34m,\u001b[0m\u001b[0;34m\u001b[0m\u001b[0;34m\u001b[0m\u001b[0m\n",
      "\u001b[0;32m~/miniconda3/envs/atoti/lib/python3.8/site-packages/atoti/query/session.py\u001b[0m in \u001b[0;36m_query_mdx_to_cellset\u001b[0;34m(self, mdx, context)\u001b[0m\n\u001b[1;32m    207\u001b[0m         \u001b[0murl\u001b[0m \u001b[0;34m=\u001b[0m \u001b[0murljoin\u001b[0m\u001b[0;34m(\u001b[0m\u001b[0;34mf\"{self.url}/\"\u001b[0m\u001b[0;34m,\u001b[0m \u001b[0;34mf\"pivot/rest/v{self._version}/cube/query/mdx\"\u001b[0m\u001b[0;34m)\u001b[0m\u001b[0;34m\u001b[0m\u001b[0;34m\u001b[0m\u001b[0m\n\u001b[1;32m    208\u001b[0m         \u001b[0mbody\u001b[0m\u001b[0;34m:\u001b[0m \u001b[0mMapping\u001b[0m\u001b[0;34m[\u001b[0m\u001b[0mstr\u001b[0m\u001b[0;34m,\u001b[0m \u001b[0mUnion\u001b[0m\u001b[0;34m[\u001b[0m\u001b[0mstr\u001b[0m\u001b[0;34m,\u001b[0m \u001b[0mContext\u001b[0m\u001b[0;34m]\u001b[0m\u001b[0;34m]\u001b[0m \u001b[0;34m=\u001b[0m \u001b[0;34m{\u001b[0m\u001b[0;34m\"context\"\u001b[0m\u001b[0;34m:\u001b[0m \u001b[0mcontext\u001b[0m\u001b[0;34m,\u001b[0m \u001b[0;34m\"mdx\"\u001b[0m\u001b[0;34m:\u001b[0m \u001b[0mmdx\u001b[0m\u001b[0;34m}\u001b[0m\u001b[0;34m\u001b[0m\u001b[0;34m\u001b[0m\u001b[0m\n\u001b[0;32m--> 209\u001b[0;31m         \u001b[0mresponse\u001b[0m \u001b[0;34m=\u001b[0m \u001b[0mself\u001b[0m\u001b[0;34m.\u001b[0m\u001b[0m_execute_json_request\u001b[0m\u001b[0;34m(\u001b[0m\u001b[0murl\u001b[0m\u001b[0;34m,\u001b[0m \u001b[0mbody\u001b[0m\u001b[0;34m=\u001b[0m\u001b[0mbody\u001b[0m\u001b[0;34m)\u001b[0m\u001b[0;34m\u001b[0m\u001b[0;34m\u001b[0m\u001b[0m\n\u001b[0m\u001b[1;32m    210\u001b[0m         \u001b[0;32mreturn\u001b[0m \u001b[0mresponse\u001b[0m\u001b[0;34m[\u001b[0m\u001b[0;34m\"data\"\u001b[0m\u001b[0;34m]\u001b[0m\u001b[0;34m\u001b[0m\u001b[0;34m\u001b[0m\u001b[0m\n\u001b[1;32m    211\u001b[0m \u001b[0;34m\u001b[0m\u001b[0m\n",
      "\u001b[0;32m~/miniconda3/envs/atoti/lib/python3.8/site-packages/atoti/query/session.py\u001b[0m in \u001b[0;36m_execute_json_request\u001b[0;34m(self, url, body)\u001b[0m\n\u001b[1;32m    178\u001b[0m             \u001b[0merror_json\u001b[0m \u001b[0;34m=\u001b[0m \u001b[0merror\u001b[0m\u001b[0;34m.\u001b[0m\u001b[0mread\u001b[0m\u001b[0;34m(\u001b[0m\u001b[0;34m)\u001b[0m\u001b[0;34m\u001b[0m\u001b[0;34m\u001b[0m\u001b[0m\n\u001b[1;32m    179\u001b[0m             \u001b[0merror_data\u001b[0m \u001b[0;34m=\u001b[0m \u001b[0mjson\u001b[0m\u001b[0;34m.\u001b[0m\u001b[0mloads\u001b[0m\u001b[0;34m(\u001b[0m\u001b[0merror_json\u001b[0m\u001b[0;34m)\u001b[0m\u001b[0;34m\u001b[0m\u001b[0;34m\u001b[0m\u001b[0m\n\u001b[0;32m--> 180\u001b[0;31m             \u001b[0;32mraise\u001b[0m \u001b[0mRuntimeError\u001b[0m\u001b[0;34m(\u001b[0m\u001b[0;34m\"Request failed\"\u001b[0m\u001b[0;34m,\u001b[0m \u001b[0merror_data\u001b[0m\u001b[0;34m)\u001b[0m \u001b[0;32mfrom\u001b[0m \u001b[0merror\u001b[0m\u001b[0;34m\u001b[0m\u001b[0;34m\u001b[0m\u001b[0m\n\u001b[0m\u001b[1;32m    181\u001b[0m \u001b[0;34m\u001b[0m\u001b[0m\n\u001b[1;32m    182\u001b[0m     \u001b[0;32mdef\u001b[0m \u001b[0m_fetch_versions\u001b[0m\u001b[0;34m(\u001b[0m\u001b[0mself\u001b[0m\u001b[0;34m)\u001b[0m \u001b[0;34m->\u001b[0m \u001b[0mAny\u001b[0m\u001b[0;34m:\u001b[0m\u001b[0;34m\u001b[0m\u001b[0;34m\u001b[0m\u001b[0m\n",
      "\u001b[0;31mRuntimeError\u001b[0m: ('Request failed', {'status': 'error', 'error': {'errorChain': [{'type': 'MdxException', 'message': 'No matching signature for Crossjoin({[Traintitanic].[Sex].[Sex].Members, [Traintitanic].[Survived].[Survived].Members}). Available signatures are: Crossjoin(<Set> ...)'}, {'type': 'MdxException', 'message': 'Failed resolution of expression: Crossjoin({[Traintitanic].[Sex].[Sex].Members, [Traintitanic].[Survived].[Survived].Members})'}, {'type': 'MdxException', 'message': ' SELECT { [Measures].[Age.MEAN],  [Measures].[Fare.MEAN] } ON COLUMNS,   NON EMPTY Crossjoin( {[Traintitanic].[Sex].[Sex].Members,  [Traintitanic].[Survived].[Survived].Members}) ON ROWS FROM [titanic] '}, {'type': 'QueryException', 'message': 'ActivePivotSyncActionQuery: action=MdxAction (mdx= SELECT { [Measures].[Age.MEAN],  [Measures].[Fare.MEAN] } ON COLUMNS,   NON EMPTY Crossjoin( {[Traintitanic].[Sex].[Sex].Members,  [Traintitanic].[Survived].[Survived].Members}) ON ROWS FROM [titanic] ), argument=com.quartetfs.pivot.mdx.impl.BasicSelectExecutor@152b9fa6'}, {'type': 'RuntimeException', 'message': 'com.quartetfs.fwk.query.QueryException: ActivePivotSyncActionQuery: action=MdxAction (mdx= SELECT { [Measures].[Age.MEAN],  [Measures].[Fare.MEAN] } ON COLUMNS,   NON EMPTY Crossjoin( {[Traintitanic].[Sex].[Sex].Members,  [Traintitanic].[Survived].[Survived].Members}) ON ROWS FROM [titanic] ), argument=com.quartetfs.pivot.mdx.impl.BasicSelectExecutor@152b9fa6'}, {'type': 'RuntimeException', 'message': 'java.lang.RuntimeException: com.quartetfs.fwk.query.QueryException: ActivePivotSyncActionQuery: action=MdxAction (mdx= SELECT { [Measures].[Age.MEAN],  [Measures].[Fare.MEAN] } ON COLUMNS,   NON EMPTY Crossjoin( {[Traintitanic].[Sex].[Sex].Members,  [Traintitanic].[Survived].[Survived].Members}) ON ROWS FROM [titanic] ), argument=com.quartetfs.pivot.mdx.impl.BasicSelectExecutor@152b9fa6'}, {'type': 'QueryException', 'message': 'Could not execute query at epoch 1. : ActivePivotSyncActionQuery: action=MdxAction (mdx= SELECT { [Measures].[Age.MEAN],  [Measures].[Fare.MEAN] } ON COLUMNS,   NON EMPTY Crossjoin( {[Traintitanic].[Sex].[Sex].Members,  [Traintitanic].[Survived].[Survived].Members}) ON ROWS FROM [titanic] ), argument=com.quartetfs.pivot.mdx.impl.BasicSelectExecutor@152b9fa6'}, {'type': 'MdxException', 'message': 'Error with the following query:  SELECT { [Measures].[Age.MEAN],  [Measures].[Fare.MEAN] } ON COLUMNS,   NON EMPTY Crossjoin( {[Traintitanic].[Sex].[Sex].Members,  [Traintitanic].[Survived].[Survived].Members}) ON ROWS FROM [titanic] '}, {'type': 'BadArgumentException', 'message': '[400] com.quartetfs.pivot.mdx.MdxException: Error with the following query:  SELECT { [Measures].[Age.MEAN],  [Measures].[Fare.MEAN] } ON COLUMNS,   NON EMPTY Crossjoin( {[Traintitanic].[Sex].[Sex].Members,  [Traintitanic].[Survived].[Survived].Members}) ON ROWS FROM [titanic] '}], 'stackTrace': 'com.qfs.fwk.services.BadArgumentException: [400] com.quartetfs.pivot.mdx.MdxException: Error with the following query:  SELECT { [Measures].[Age.MEAN],  [Measures].[Fare.MEAN] } ON COLUMNS,   NON EMPTY Crossjoin( {[Traintitanic].[Sex].[Sex].Members,  [Traintitanic].[Survived].[Survived].Members}) ON ROWS FROM [titanic] \\n\\tat com.qfs.pivot.rest.query.impl.JsonQueryService.executeQuery(JsonQueryService.java:215)\\n\\tat com.qfs.pivot.rest.query.impl.JsonQueryService.executeMdxQuery(JsonQueryService.java:108)\\n\\tat com.qfs.pivot.rest.query.impl.QueriesRestService.mdxQuery(QueriesRestService.java:66)\\n\\tat jdk.internal.reflect.GeneratedMethodAccessor132.invoke(Unknown Source)\\n\\tat java.base/jdk.internal.reflect.DelegatingMethodAccessorImpl.invoke(Unknown Source)\\n\\tat java.base/java.lang.reflect.Method.invoke(Unknown Source)\\n\\tat org.apache.cxf.service.invoker.AbstractInvoker.performInvocation(AbstractInvoker.java:179)\\n\\tat org.apache.cxf.service.invoker.AbstractInvoker.invoke(AbstractInvoker.java:96)\\n\\tat org.apache.cxf.jaxrs.JAXRSInvoker.invoke(JAXRSInvoker.java:201)\\n\\tat org.apache.cxf.jaxrs.JAXRSInvoker.invoke(JAXRSInvoker.java:104)\\n\\tat org.apache.cxf.interceptor.ServiceInvokerInterceptor$1.run(ServiceInvokerInterceptor.java:59)\\n\\tat org.apache.cxf.interceptor.ServiceInvokerInterceptor.handleMessage(ServiceInvokerInterceptor.java:96)\\n\\tat org.apache.cxf.phase.PhaseInterceptorChain.doIntercept(PhaseInterceptorChain.java:308)\\n\\tat org.apache.cxf.transport.ChainInitiationObserver.onMessage(ChainInitiationObserver.java:121)\\n\\tat org.apache.cxf.transport.http.AbstractHTTPDestination.invoke(AbstractHTTPDestination.java:267)\\n\\tat org.apache.cxf.transport.servlet.ServletController.invokeDestination(ServletController.java:234)\\n\\tat org.apache.cxf.transport.servlet.ServletController.invoke(ServletController.java:208)\\n\\tat org.apache.cxf.transport.servlet.ServletController.invoke(ServletController.java:160)\\n\\tat org.apache.cxf.transport.servlet.CXFNonSpringServlet.invoke(CXFNonSpringServlet.java:225)\\n\\tat org.apache.cxf.transport.servlet.AbstractHTTPServlet.handleRequest(AbstractHTTPServlet.java:301)\\n\\tat org.apache.cxf.transport.servlet.AbstractHTTPServlet.doPost(AbstractHTTPServlet.java:220)\\n\\tat javax.servlet.http.HttpServlet.service(HttpServlet.java:665)\\n\\tat org.apache.cxf.transport.servlet.AbstractHTTPServlet.service(AbstractHTTPServlet.java:276)\\n\\tat org.springframework.web.servlet.mvc.ServletWrappingController.handleRequestInternal(ServletWrappingController.java:166)\\n\\tat org.springframework.web.servlet.mvc.AbstractController.handleRequest(AbstractController.java:177)\\n\\tat org.springframework.web.servlet.mvc.SimpleControllerHandlerAdapter.handle(SimpleControllerHandlerAdapter.java:52)\\n\\tat org.springframework.web.servlet.DispatcherServlet.doDispatch(DispatcherServlet.java:1060)\\n\\tat org.springframework.web.servlet.DispatcherServlet.doService(DispatcherServlet.java:962)\\n\\tat org.springframework.web.servlet.FrameworkServlet.processRequest(FrameworkServlet.java:1006)\\n\\tat org.springframework.web.servlet.FrameworkServlet.doPost(FrameworkServlet.java:909)\\n\\tat javax.servlet.http.HttpServlet.service(HttpServlet.java:665)\\n\\tat org.springframework.web.servlet.FrameworkServlet.service(FrameworkServlet.java:883)\\n\\tat javax.servlet.http.HttpServlet.service(HttpServlet.java:750)\\n\\tat org.apache.catalina.core.ApplicationFilterChain.internalDoFilter(ApplicationFilterChain.java:231)\\n\\tat org.apache.catalina.core.ApplicationFilterChain.doFilter(ApplicationFilterChain.java:166)\\n\\tat org.apache.tomcat.websocket.server.WsFilter.doFilter(WsFilter.java:53)\\n\\tat org.apache.catalina.core.ApplicationFilterChain.internalDoFilter(ApplicationFilterChain.java:193)\\n\\tat org.apache.catalina.core.ApplicationFilterChain.doFilter(ApplicationFilterChain.java:166)\\n\\tat com.qfs.pivot.servlet.impl.ContextValueFilter.doFilter(ContextValueFilter.java:67)\\n\\tat org.apache.catalina.core.ApplicationFilterChain.internalDoFilter(ApplicationFilterChain.java:193)\\n\\tat org.apache.catalina.core.ApplicationFilterChain.doFilter(ApplicationFilterChain.java:166)\\n\\tat org.springframework.web.filter.CorsFilter.doFilterInternal(CorsFilter.java:91)\\n\\tat org.springframework.web.filter.OncePerRequestFilter.doFilter(OncePerRequestFilter.java:119)\\n\\tat org.apache.catalina.core.ApplicationFilterChain.internalDoFilter(ApplicationFilterChain.java:193)\\n\\tat org.apache.catalina.core.ApplicationFilterChain.doFilter(ApplicationFilterChain.java:166)\\n\\tat org.springframework.web.filter.CharacterEncodingFilter.doFilterInternal(CharacterEncodingFilter.java:201)\\n\\tat org.springframework.web.filter.OncePerRequestFilter.doFilter(OncePerRequestFilter.java:119)\\n\\tat org.apache.catalina.core.ApplicationFilterChain.internalDoFilter(ApplicationFilterChain.java:193)\\n\\tat org.apache.catalina.core.ApplicationFilterChain.doFilter(ApplicationFilterChain.java:166)\\n\\tat org.apache.catalina.core.StandardWrapperValve.invoke(StandardWrapperValve.java:202)\\n\\tat org.apache.catalina.core.StandardContextValve.invoke(StandardContextValve.java:97)\\n\\tat org.apache.catalina.authenticator.AuthenticatorBase.invoke(AuthenticatorBase.java:542)\\n\\tat org.apache.catalina.core.StandardHostValve.invoke(StandardHostValve.java:143)\\n\\tat org.apache.catalina.valves.ErrorReportValve.invoke(ErrorReportValve.java:92)\\n\\tat org.apache.catalina.core.StandardEngineValve.invoke(StandardEngineValve.java:78)\\n\\tat org.apache.catalina.connector.CoyoteAdapter.service(CoyoteAdapter.java:343)\\n\\tat org.apache.coyote.http11.Http11Processor.service(Http11Processor.java:374)\\n\\tat org.apache.coyote.AbstractProcessorLight.process(AbstractProcessorLight.java:65)\\n\\tat org.apache.coyote.AbstractProtocol$ConnectionHandler.process(AbstractProtocol.java:888)\\n\\tat org.apache.tomcat.util.net.NioEndpoint$SocketProcessor.doRun(NioEndpoint.java:1597)\\n\\tat org.apache.tomcat.util.net.SocketProcessorBase.run(SocketProcessorBase.java:49)\\n\\tat java.base/java.util.concurrent.ThreadPoolExecutor.runWorker(Unknown Source)\\n\\tat java.base/java.util.concurrent.ThreadPoolExecutor$Worker.run(Unknown Source)\\n\\tat org.apache.tomcat.util.threads.TaskThread$WrappingRunnable.run(TaskThread.java:61)\\n\\tat java.base/java.lang.Thread.run(Unknown Source)\\nCaused by: com.quartetfs.pivot.mdx.MdxException: Error with the following query:  SELECT { [Measures].[Age.MEAN],  [Measures].[Fare.MEAN] } ON COLUMNS,   NON EMPTY Crossjoin( {[Traintitanic].[Sex].[Sex].Members,  [Traintitanic].[Survived].[Survived].Members}) ON ROWS FROM [titanic] \\n\\tat com.quartetfs.pivot.mdx.impl.ASelectStatementExecutor.executeAfterParse(ASelectStatementExecutor.java:425)\\n\\tat com.quartetfs.pivot.mdx.impl.ASelectStatementExecutor.executeAfterParse(ASelectStatementExecutor.java:407)\\n\\tat com.quartetfs.pivot.mdx.impl.ASelectStatementExecutor.execute(ASelectStatementExecutor.java:396)\\n\\tat com.qfs.pivot.rest.query.impl.JsonQueryService$JsonSelectExecutor.execute(JsonQueryService.java:316)\\n\\tat com.qfs.pivot.rest.query.impl.JsonQueryService$JsonSelectExecutor.execute(JsonQueryService.java:294)\\n\\tat com.qfs.pivot.rest.query.impl.JsonQueryService.executeQuery(JsonQueryService.java:210)\\n\\t... 64 more\\nCaused by: com.quartetfs.fwk.query.QueryException: Could not execute query at epoch 1. : ActivePivotSyncActionQuery: action=MdxAction (mdx= SELECT { [Measures].[Age.MEAN],  [Measures].[Fare.MEAN] } ON COLUMNS,   NON EMPTY Crossjoin( {[Traintitanic].[Sex].[Sex].Members,  [Traintitanic].[Survived].[Survived].Members}) ON ROWS FROM [titanic] ), argument=com.quartetfs.pivot.mdx.impl.BasicSelectExecutor@152b9fa6\\n\\tat com.quartetfs.biz.pivot.impl.ActivePivotVersion$QueryExecutionTask.getWithQueriesTimeLimit(ActivePivotVersion.java:1535)\\n\\tat com.quartetfs.biz.pivot.impl.ActivePivotVersion.execute(ActivePivotVersion.java:948)\\n\\tat com.quartetfs.biz.pivot.query.impl.ActivePivotSyncUtils.activePivotSyncExec(ActivePivotSyncUtils.java:94)\\n\\tat com.quartetfs.pivot.mdx.impl.ASelectStatementExecutor.executeAfterParse(ASelectStatementExecutor.java:423)\\n\\t... 69 more\\nCaused by: java.lang.RuntimeException: java.lang.RuntimeException: com.quartetfs.fwk.query.QueryException: ActivePivotSyncActionQuery: action=MdxAction (mdx= SELECT { [Measures].[Age.MEAN],  [Measures].[Fare.MEAN] } ON COLUMNS,   NON EMPTY Crossjoin( {[Traintitanic].[Sex].[Sex].Members,  [Traintitanic].[Survived].[Survived].Members}) ON ROWS FROM [titanic] ), argument=com.quartetfs.pivot.mdx.impl.BasicSelectExecutor@152b9fa6\\n\\tat java.base/jdk.internal.reflect.NativeConstructorAccessorImpl.newInstance0(Native Method)\\n\\tat java.base/jdk.internal.reflect.NativeConstructorAccessorImpl.newInstance(Unknown Source)\\n\\tat java.base/jdk.internal.reflect.DelegatingConstructorAccessorImpl.newInstance(Unknown Source)\\n\\tat java.base/java.lang.reflect.Constructor.newInstance(Unknown Source)\\n\\tat java.base/java.util.concurrent.ForkJoinTask.getThrowableException(Unknown Source)\\n\\tat java.base/java.util.concurrent.ForkJoinTask.get(Unknown Source)\\n\\tat com.quartetfs.biz.pivot.impl.ActivePivotVersion$QueryExecutionTask.getWithQueriesTimeLimit(ActivePivotVersion.java:1506)\\n\\t... 72 more\\nCaused by: java.lang.RuntimeException: com.quartetfs.fwk.query.QueryException: ActivePivotSyncActionQuery: action=MdxAction (mdx= SELECT { [Measures].[Age.MEAN],  [Measures].[Fare.MEAN] } ON COLUMNS,   NON EMPTY Crossjoin( {[Traintitanic].[Sex].[Sex].Members,  [Traintitanic].[Survived].[Survived].Members}) ON ROWS FROM [titanic] ), argument=com.quartetfs.pivot.mdx.impl.BasicSelectExecutor@152b9fa6\\n\\tat java.base/java.util.concurrent.ForkJoinTask.completeExceptionally(Unknown Source)\\n\\tat com.qfs.concurrent.cancellable.impl.CancellableCountedCompleter.performExceptionalCompletion(CancellableCountedCompleter.java:291)\\n\\tat com.qfs.concurrent.cancellable.impl.CancellableCountedCompleter.onCompletion(CancellableCountedCompleter.java:278)\\n\\tat java.base/java.util.concurrent.CountedCompleter.tryComplete(Unknown Source)\\n\\tat com.quartetfs.biz.pivot.impl.ActivePivotVersion$QueryExecutionTask.afterCompute(ActivePivotVersion.java:1389)\\n\\tat com.qfs.concurrent.cancellable.impl.CancellableCountedCompleter.afterExec(CancellableCountedCompleter.java:157)\\n\\tat com.quartetfs.biz.pivot.context.impl.ContextualCancellableCountedCompleter.afterExec(ContextualCancellableCountedCompleter.java:124)\\n\\tat com.qfs.concurrent.cancellable.impl.CancellableCountedCompleter.compute(CancellableCountedCompleter.java:181)\\n\\tat java.base/java.util.concurrent.CountedCompleter.exec(Unknown Source)\\n\\tat java.base/java.util.concurrent.ForkJoinTask.doExec(Unknown Source)\\n\\tat java.base/java.util.concurrent.ForkJoinPool$WorkQueue.topLevelExec(Unknown Source)\\n\\tat java.base/java.util.concurrent.ForkJoinPool.scan(Unknown Source)\\n\\tat java.base/java.util.concurrent.ForkJoinPool.runWorker(Unknown Source)\\n\\tat java.base/java.util.concurrent.ForkJoinWorkerThread.run(Unknown Source)\\nCaused by: com.quartetfs.fwk.query.QueryException: ActivePivotSyncActionQuery: action=MdxAction (mdx= SELECT { [Measures].[Age.MEAN],  [Measures].[Fare.MEAN] } ON COLUMNS,   NON EMPTY Crossjoin( {[Traintitanic].[Sex].[Sex].Members,  [Traintitanic].[Survived].[Survived].Members}) ON ROWS FROM [titanic] ), argument=com.quartetfs.pivot.mdx.impl.BasicSelectExecutor@152b9fa6\\n\\tat com.quartetfs.biz.pivot.query.impl.ActivePivotSyncActionAttachedQuery.executeAsync(ActivePivotSyncActionAttachedQuery.java:59)\\n\\tat com.quartetfs.biz.pivot.impl.AActivePivotQueryExecutor.executeAsync(AActivePivotQueryExecutor.java:33)\\n\\tat com.quartetfs.biz.pivot.impl.ActivePivotVersion.executeAttachedAsync(ActivePivotVersion.java:1132)\\n\\tat com.quartetfs.biz.pivot.impl.ActivePivotVersion$QueryExecutionTask.computeSafely(ActivePivotVersion.java:1378)\\n\\tat com.qfs.concurrent.cancellable.impl.CancellableCountedCompleter.execSafely(CancellableCountedCompleter.java:141)\\n\\tat com.quartetfs.biz.pivot.context.impl.ContextualCancellableCountedCompleter.execSafely(ContextualCancellableCountedCompleter.java:118)\\n\\tat com.qfs.concurrent.cancellable.impl.CancellableCountedCompleter.compute(CancellableCountedCompleter.java:171)\\n\\t... 6 more\\nCaused by: com.quartetfs.pivot.mdx.MdxException:  SELECT { [Measures].[Age.MEAN],  [Measures].[Fare.MEAN] } ON COLUMNS,   NON EMPTY Crossjoin( {[Traintitanic].[Sex].[Sex].Members,  [Traintitanic].[Survived].[Survived].Members}) ON ROWS FROM [titanic] \\n\\tat com.quartetfs.pivot.mdx.impl.ASelectStatementExecutor.resolve(ASelectStatementExecutor.java:239)\\n\\tat com.quartetfs.pivot.mdx.impl.ASelectStatementExecutor.noSyncExecuteAfterParse(ASelectStatementExecutor.java:462)\\n\\tat com.quartetfs.pivot.mdx.impl.ASelectStatementExecutor$MdxAction.execute(ASelectStatementExecutor.java:531)\\n\\tat com.quartetfs.pivot.mdx.impl.ASelectStatementExecutor$MdxAction.execute(ASelectStatementExecutor.java:511)\\n\\tat com.quartetfs.biz.pivot.query.impl.ActivePivotSyncUtils$AAction.execute(ActivePivotSyncUtils.java:205)\\n\\tat com.quartetfs.biz.pivot.query.impl.ActivePivotSyncActionAttachedQuery.executeAsync(ActivePivotSyncActionAttachedQuery.java:57)\\n\\t... 12 more\\nCaused by: com.quartetfs.pivot.mdx.MdxException: Failed resolution of expression: Crossjoin({[Traintitanic].[Sex].[Sex].Members, [Traintitanic].[Survived].[Survived].Members})\\n\\tat com.quartetfs.pivot.mdx.impl.SelectStatementResolver.resolve(SelectStatementResolver.java:164)\\n\\tat com.quartetfs.pivot.mdx.impl.SelectStatementResolver.resolveAxis(SelectStatementResolver.java:764)\\n\\tat com.quartetfs.pivot.mdx.impl.SelectStatementResolver.resolveNonSlicingAxes(SelectStatementResolver.java:743)\\n\\tat com.quartetfs.pivot.mdx.impl.SelectStatementResolver.resolveSelectBase(SelectStatementResolver.java:449)\\n\\tat com.quartetfs.pivot.mdx.impl.SelectStatementResolver.resolveSelect(SelectStatementResolver.java:257)\\n\\tat com.quartetfs.pivot.mdx.impl.SelectStatementResolver.resolve(SelectStatementResolver.java:205)\\n\\tat com.quartetfs.pivot.mdx.impl.ASelectStatementExecutor.doResolve(ASelectStatementExecutor.java:281)\\n\\tat com.quartetfs.pivot.mdx.impl.ASelectStatementExecutor.resolve(ASelectStatementExecutor.java:233)\\n\\t... 17 more\\nCaused by: com.quartetfs.pivot.mdx.MdxException: No matching signature for Crossjoin({[Traintitanic].[Sex].[Sex].Members, [Traintitanic].[Survived].[Survived].Members}). Available signatures are: Crossjoin(<Set> ...)\\n\\tat com.quartetfs.pivot.mdx.impl.SelectStatementResolver$ResolveVisitor.visit(SelectStatementResolver.java:1082)\\n\\tat com.quartetfs.pivot.mdx.impl.SelectStatementResolver$ResolveVisitor.visit(SelectStatementResolver.java:859)\\n\\tat com.quartetfs.pivot.mdx.impl.CachingVisitor.visit(CachingVisitor.java:85)\\n\\tat com.quartetfs.pivot.mdx.statement.impl.UnresolvedFunctionCall.accept(UnresolvedFunctionCall.java:58)\\n\\tat com.quartetfs.pivot.mdx.impl.SelectStatementResolver.resolve(SelectStatementResolver.java:162)\\n\\t... 24 more\\n'}})"
     ]
    }
   ],
   "source": [
    "session.query_mdx(mdx_query2)"
   ]
  },
  {
   "cell_type": "code",
   "execution_count": null,
   "id": "92fe4bc9-40e5-4704-8b8b-6dc151ec02f7",
   "metadata": {},
   "outputs": [],
   "source": []
  }
 ],
 "metadata": {
  "kernelspec": {
   "display_name": "Python 3",
   "language": "python",
   "name": "python3"
  },
  "language_info": {
   "codemirror_mode": {
    "name": "ipython",
    "version": 3
   },
   "file_extension": ".py",
   "mimetype": "text/x-python",
   "name": "python",
   "nbconvert_exporter": "python",
   "pygments_lexer": "ipython3",
   "version": "3.8.10"
  }
 },
 "nbformat": 4,
 "nbformat_minor": 5
}
