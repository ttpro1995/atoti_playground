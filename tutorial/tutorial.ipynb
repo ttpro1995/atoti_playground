{
 "cells": [
  {
   "cell_type": "markdown",
   "metadata": {},
   "source": [
    "# Tutorial\n",
    "\n",
    "This tutorial will walk you through the main features of atoti.\n",
    "\n",
    "We encourage you to play this notebook in JupyterLab:\n",
    "\n",
    "- Copy the tutorial: `python -m atoti.copy_tutorial tutorial`\n",
    "- Open JupyterLab: `jupyter lab`\n",
    "- Open the created **tutorial** directory and start playing its notebook.\n",
    "\n",
    "For more information about a functionality, you can use the API reference or <kbd>Shift ⇧</kbd> + <kbd>Tab ⇥</kbd> on a Python symbol in JupyterLab.\n",
    "\n",
    "## Getting started\n",
    "\n",
    "### From CSV to Cube\n",
    "\n",
    "In this part of the tutorial, you will create your first cube from a CSV file and learn multidimensionnal concepts such as _cube_, _dimension_, _hierarchy_, _measure_.\n",
    "\n",
    "Let's start by creating a _session_:"
   ]
  },
  {
   "cell_type": "code",
   "execution_count": 1,
   "metadata": {},
   "outputs": [],
   "source": [
    "import atoti as tt\n",
    "\n",
    "session = tt.create_session()"
   ]
  },
  {
   "cell_type": "markdown",
   "metadata": {},
   "source": [
    "We can now load the data from a CSV file into an in-memory table called a _store_:"
   ]
  },
  {
   "cell_type": "code",
   "execution_count": 2,
   "metadata": {},
   "outputs": [],
   "source": [
    "sales_store = session.read_csv(\"data/sales.csv\", keys=[\"Sale ID\"])"
   ]
  },
  {
   "cell_type": "markdown",
   "metadata": {},
   "source": [
    "We can have a look at the loaded data.\n",
    "They are sales from a company:"
   ]
  },
  {
   "cell_type": "code",
   "execution_count": 3,
   "metadata": {},
   "outputs": [
    {
     "data": {
      "text/html": [
       "<div>\n",
       "<style scoped>\n",
       "    .dataframe tbody tr th:only-of-type {\n",
       "        vertical-align: middle;\n",
       "    }\n",
       "\n",
       "    .dataframe tbody tr th {\n",
       "        vertical-align: top;\n",
       "    }\n",
       "\n",
       "    .dataframe thead th {\n",
       "        text-align: right;\n",
       "    }\n",
       "</style>\n",
       "<table border=\"1\" class=\"dataframe\">\n",
       "  <thead>\n",
       "    <tr style=\"text-align: right;\">\n",
       "      <th></th>\n",
       "      <th>Date</th>\n",
       "      <th>Shop</th>\n",
       "      <th>Product</th>\n",
       "      <th>Quantity</th>\n",
       "      <th>Unit price</th>\n",
       "    </tr>\n",
       "    <tr>\n",
       "      <th>Sale ID</th>\n",
       "      <th></th>\n",
       "      <th></th>\n",
       "      <th></th>\n",
       "      <th></th>\n",
       "      <th></th>\n",
       "    </tr>\n",
       "  </thead>\n",
       "  <tbody>\n",
       "    <tr>\n",
       "      <th>S000000000</th>\n",
       "      <td>2021-02-04</td>\n",
       "      <td>shop_0</td>\n",
       "      <td>TAB_0</td>\n",
       "      <td>1.0</td>\n",
       "      <td>210.0</td>\n",
       "    </tr>\n",
       "    <tr>\n",
       "      <th>S000000001</th>\n",
       "      <td>2021-02-03</td>\n",
       "      <td>shop_1</td>\n",
       "      <td>TAB_1</td>\n",
       "      <td>1.0</td>\n",
       "      <td>300.0</td>\n",
       "    </tr>\n",
       "    <tr>\n",
       "      <th>S000000002</th>\n",
       "      <td>2021-02-02</td>\n",
       "      <td>shop_2</td>\n",
       "      <td>CHA_2</td>\n",
       "      <td>2.0</td>\n",
       "      <td>60.0</td>\n",
       "    </tr>\n",
       "    <tr>\n",
       "      <th>S000000003</th>\n",
       "      <td>2021-02-01</td>\n",
       "      <td>shop_3</td>\n",
       "      <td>BED_3</td>\n",
       "      <td>1.0</td>\n",
       "      <td>150.0</td>\n",
       "    </tr>\n",
       "    <tr>\n",
       "      <th>S000000004</th>\n",
       "      <td>2021-01-31</td>\n",
       "      <td>shop_4</td>\n",
       "      <td>BED_4</td>\n",
       "      <td>3.0</td>\n",
       "      <td>300.0</td>\n",
       "    </tr>\n",
       "  </tbody>\n",
       "</table>\n",
       "</div>"
      ],
      "text/plain": [
       "                 Date    Shop Product  Quantity  Unit price\n",
       "Sale ID                                                    \n",
       "S000000000 2021-02-04  shop_0   TAB_0       1.0       210.0\n",
       "S000000001 2021-02-03  shop_1   TAB_1       1.0       300.0\n",
       "S000000002 2021-02-02  shop_2   CHA_2       2.0        60.0\n",
       "S000000003 2021-02-01  shop_3   BED_3       1.0       150.0\n",
       "S000000004 2021-01-31  shop_4   BED_4       3.0       300.0"
      ]
     },
     "execution_count": 3,
     "metadata": {},
     "output_type": "execute_result"
    }
   ],
   "source": [
    "sales_store.head()"
   ]
  },
  {
   "cell_type": "markdown",
   "metadata": {},
   "source": [
    "We will come back to stores in details later, for now we will use the one we have to build a _cube_:"
   ]
  },
  {
   "cell_type": "code",
   "execution_count": 4,
   "metadata": {},
   "outputs": [],
   "source": [
    "cube = session.create_cube(sales_store)"
   ]
  },
  {
   "cell_type": "markdown",
   "metadata": {},
   "source": [
    "That's it, you have created your first cube!\n",
    "But what's a cube exactly and how to use it?"
   ]
  },
  {
   "cell_type": "markdown",
   "metadata": {},
   "source": [
    "### Multidimensional concepts\n",
    "\n",
    "A _cube_ is a multidimensional view of some data, making it easy to explore, aggregate, filter and compare.\n",
    "It's called a cube because each attribute of the data can be represented as a dimension of the cube:\n",
    "\n",
    "<img alt=\"Multidimensional cube concept\" src=\"images/olap/cube-concept.svg\" width=\"400\" />\n",
    "\n",
    "The axes of the cube are called _hierarchies_.\n",
    "The purpose of multidimensionnal analysis is to visualize some numeric indicators at specific coordinates of the cube.\n",
    "These indicators are called _measures_.\n",
    "An example of measure would be the amount of products sold.\n",
    "\n",
    "We can list the hierarchies in our cube:"
   ]
  },
  {
   "cell_type": "code",
   "execution_count": 5,
   "metadata": {},
   "outputs": [
    {
     "data": {
      "application/json": {
       "Sales": {
        "Date": [
         "Date"
        ],
        "Product": [
         "Product"
        ],
        "Sale ID": [
         "Sale ID"
        ],
        "Shop": [
         "Shop"
        ]
       }
      },
      "text/html": [
       "<ul>\n",
       "<li>Dimensions\n",
       "  <ul>\n",
       "  <li>Sales\n",
       "    <ul>\n",
       "    <li>Date\n",
       "      <ol>\n",
       "      <li>Date</li>\n",
       "      </ol>    </li>\n",
       "    <li>Product\n",
       "      <ol>\n",
       "      <li>Product</li>\n",
       "      </ol>    </li>\n",
       "    <li>Sale ID\n",
       "      <ol>\n",
       "      <li>Sale ID</li>\n",
       "      </ol>    </li>\n",
       "    <li>Shop\n",
       "      <ol>\n",
       "      <li>Shop</li>\n",
       "      </ol>    </li>\n",
       "    </ul>\n",
       "  </li>\n",
       "  </ul>\n",
       "</li>\n",
       "</ul>\n"
      ],
      "text/plain": [
       "Hierarchies()"
      ]
     },
     "execution_count": 5,
     "metadata": {
      "application/json": {
       "expanded": true,
       "root": "Dimensions"
      }
     },
     "output_type": "execute_result"
    }
   ],
   "source": [
    "# Aliasing the hierarchies property to a shorter variable name because we will use it a lot.\n",
    "h = cube.hierarchies\n",
    "h"
   ]
  },
  {
   "cell_type": "markdown",
   "metadata": {},
   "source": [
    "The cube has automatically created a hierarchy for each non numeric field: **Date**, **Product**, **Sale ID** and **Shop**.\n",
    "\n",
    "You can see that the hierarchy are grouped into dimensions.\n",
    "Here we have a single dimension called sales, which is the name of the store the fields come from. We will see how to move hierarchies between dimensions later.\n",
    "\n",
    "Hierarchies are also made of _levels_.\n",
    "Levels of the same hierarchy are attributes with a parent-child relationship.\n",
    "For instance, a city belongs to a country so **Country** and **City** could be the two levels of a **Geography** hierarchy.\n",
    "\n",
    "At the moment, to keep it simple, we only have single-level hierarchies."
   ]
  },
  {
   "cell_type": "code",
   "execution_count": 6,
   "metadata": {},
   "outputs": [
    {
     "data": {
      "application/json": {
       "Date (Sales/Date/Date)": {
        "dimension": "Sales",
        "hierarchy": "Date",
        "type": "LocalDate[yyyy-MM-dd]"
       },
       "Product (Sales/Product/Product)": {
        "dimension": "Sales",
        "hierarchy": "Product",
        "type": "string"
       },
       "Sale ID (Sales/Sale ID/Sale ID)": {
        "dimension": "Sales",
        "hierarchy": "Sale ID",
        "type": "string"
       },
       "Shop (Sales/Shop/Shop)": {
        "dimension": "Sales",
        "hierarchy": "Shop",
        "type": "string"
       }
      },
      "text/html": [
       "<ul>\n",
       "<li>Levels\n",
       "  <ul>\n",
       "  <li>Date (Sales/Date/Date)\n",
       "    <ul>\n",
       "    <li>dimension: Sales</li>\n",
       "    <li>hierarchy: Date</li>\n",
       "    <li>type: LocalDate[yyyy-MM-dd]</li>\n",
       "    </ul>\n",
       "  </li>\n",
       "  <li>Product (Sales/Product/Product)\n",
       "    <ul>\n",
       "    <li>dimension: Sales</li>\n",
       "    <li>hierarchy: Product</li>\n",
       "    <li>type: string</li>\n",
       "    </ul>\n",
       "  </li>\n",
       "  <li>Sale ID (Sales/Sale ID/Sale ID)\n",
       "    <ul>\n",
       "    <li>dimension: Sales</li>\n",
       "    <li>hierarchy: Sale ID</li>\n",
       "    <li>type: string</li>\n",
       "    </ul>\n",
       "  </li>\n",
       "  <li>Shop (Sales/Shop/Shop)\n",
       "    <ul>\n",
       "    <li>dimension: Sales</li>\n",
       "    <li>hierarchy: Shop</li>\n",
       "    <li>type: string</li>\n",
       "    </ul>\n",
       "  </li>\n",
       "  </ul>\n",
       "</li>\n",
       "</ul>\n"
      ],
      "text/plain": [
       "Levels()"
      ]
     },
     "execution_count": 6,
     "metadata": {
      "application/json": {
       "expanded": true,
       "root": "Levels"
      }
     },
     "output_type": "execute_result"
    }
   ],
   "source": [
    "l = cube.levels\n",
    "l"
   ]
  },
  {
   "cell_type": "markdown",
   "metadata": {},
   "source": [
    "Let's have a look at the measures of the cube that have been inferred from the data:"
   ]
  },
  {
   "cell_type": "code",
   "execution_count": 7,
   "metadata": {},
   "outputs": [
    {
     "data": {
      "application/json": {
       "Quantity.MEAN": {
        "formatter": "DOUBLE[#,###.00]"
       },
       "Quantity.SUM": {
        "formatter": "DOUBLE[#,###.00]"
       },
       "Unit price.MEAN": {
        "formatter": "DOUBLE[#,###.00]"
       },
       "Unit price.SUM": {
        "formatter": "DOUBLE[#,###.00]"
       },
       "contributors.COUNT": {
        "formatter": "INT[#,###]"
       }
      },
      "text/html": [
       "<ul>\n",
       "<li>Measures\n",
       "  <ul>\n",
       "  <li>Quantity.MEAN\n",
       "    <ul>\n",
       "    <li>formatter: DOUBLE[#,###.00]</li>\n",
       "    </ul>\n",
       "  </li>\n",
       "  <li>Quantity.SUM\n",
       "    <ul>\n",
       "    <li>formatter: DOUBLE[#,###.00]</li>\n",
       "    </ul>\n",
       "  </li>\n",
       "  <li>Unit price.MEAN\n",
       "    <ul>\n",
       "    <li>formatter: DOUBLE[#,###.00]</li>\n",
       "    </ul>\n",
       "  </li>\n",
       "  <li>Unit price.SUM\n",
       "    <ul>\n",
       "    <li>formatter: DOUBLE[#,###.00]</li>\n",
       "    </ul>\n",
       "  </li>\n",
       "  <li>contributors.COUNT\n",
       "    <ul>\n",
       "    <li>formatter: INT[#,###]</li>\n",
       "    </ul>\n",
       "  </li>\n",
       "  </ul>\n",
       "</li>\n",
       "</ul>\n"
      ],
      "text/plain": [
       "Measures()"
      ]
     },
     "execution_count": 7,
     "metadata": {
      "application/json": {
       "expanded": false,
       "root": "Measures"
      }
     },
     "output_type": "execute_result"
    }
   ],
   "source": [
    "m = cube.measures\n",
    "m"
   ]
  },
  {
   "cell_type": "markdown",
   "metadata": {},
   "source": [
    "The cube has automatically created the _sum_ and _mean_ aggregations for all the numeric fields of the dataset.\n",
    "\n",
    "Note that a measure isn't a single result number, it's more a formula that can be evaluated for any coordinates of the cube.\n",
    "\n",
    "For instance, we can see the _grand total_ of **Quantity.SUM**, which means summing the sold quantities over the whole dataset:\n",
    "\n",
    "<img alt=\"Grand total\" src=\"images/olap/grand-total.svg\" width=\"400\" />"
   ]
  },
  {
   "cell_type": "code",
   "execution_count": 18,
   "metadata": {},
   "outputs": [
    {
     "data": {
      "application/vnd.atoti.convert-query-result-to-widget.v0+json": {
       "mdx": "SELECT {[Measures].[Quantity.SUM]} ON COLUMNS FROM [Sales]",
       "sessionName": "Unnamed",
       "widgetCreationCode": "session.visualize()"
      },
      "text/html": [
       "<div>\n",
       "<style scoped>\n",
       "    .dataframe tbody tr th:only-of-type {\n",
       "        vertical-align: middle;\n",
       "    }\n",
       "\n",
       "    .dataframe tbody tr th {\n",
       "        vertical-align: top;\n",
       "    }\n",
       "\n",
       "    .dataframe thead th {\n",
       "        text-align: right;\n",
       "    }\n",
       "</style>\n",
       "<table border=\"1\" class=\"dataframe\">\n",
       "  <thead>\n",
       "    <tr style=\"text-align: right;\">\n",
       "      <th></th>\n",
       "      <th>Quantity.SUM</th>\n",
       "    </tr>\n",
       "  </thead>\n",
       "  <tbody>\n",
       "    <tr>\n",
       "      <th>0</th>\n",
       "      <td>8,077.00</td>\n",
       "    </tr>\n",
       "  </tbody>\n",
       "</table>\n",
       "</div>"
      ],
      "text/plain": [
       "  Quantity.SUM\n",
       "0     8,077.00"
      ]
     },
     "execution_count": 18,
     "metadata": {},
     "output_type": "execute_result"
    }
   ],
   "source": [
    "cube.query(m[\"Quantity.SUM\"])"
   ]
  },
  {
   "cell_type": "markdown",
   "metadata": {},
   "source": [
    "But we can also _dice_ the cube to get the quantity for each **Shop**, which means taking one _slice_ of the cube for each **Shop**:\n",
    "\n",
    "<img alt=\"Dicing the cube\" src=\"images/olap/slices.svg\" width=\"400\" />"
   ]
  },
  {
   "cell_type": "code",
   "execution_count": 19,
   "metadata": {},
   "outputs": [
    {
     "data": {
      "application/vnd.atoti.convert-query-result-to-widget.v0+json": {
       "mdx": "SELECT {[Measures].[Quantity.SUM]} ON COLUMNS, NON EMPTY [Sales].[Shop].[Shop].Members ON ROWS FROM [Sales]",
       "sessionName": "Unnamed",
       "widgetCreationCode": "session.visualize()"
      },
      "text/html": [
       "<div>\n",
       "<style scoped>\n",
       "    .dataframe tbody tr th:only-of-type {\n",
       "        vertical-align: middle;\n",
       "    }\n",
       "\n",
       "    .dataframe tbody tr th {\n",
       "        vertical-align: top;\n",
       "    }\n",
       "\n",
       "    .dataframe thead th {\n",
       "        text-align: right;\n",
       "    }\n",
       "</style>\n",
       "<table border=\"1\" class=\"dataframe\">\n",
       "  <thead>\n",
       "    <tr style=\"text-align: right;\">\n",
       "      <th></th>\n",
       "      <th>Quantity.SUM</th>\n",
       "    </tr>\n",
       "    <tr>\n",
       "      <th>Shop</th>\n",
       "      <th></th>\n",
       "    </tr>\n",
       "  </thead>\n",
       "  <tbody>\n",
       "    <tr>\n",
       "      <th>shop_0</th>\n",
       "      <td>202.00</td>\n",
       "    </tr>\n",
       "    <tr>\n",
       "      <th>shop_1</th>\n",
       "      <td>202.00</td>\n",
       "    </tr>\n",
       "    <tr>\n",
       "      <th>shop_10</th>\n",
       "      <td>203.00</td>\n",
       "    </tr>\n",
       "    <tr>\n",
       "      <th>shop_11</th>\n",
       "      <td>203.00</td>\n",
       "    </tr>\n",
       "    <tr>\n",
       "      <th>shop_12</th>\n",
       "      <td>201.00</td>\n",
       "    </tr>\n",
       "    <tr>\n",
       "      <th>shop_13</th>\n",
       "      <td>202.00</td>\n",
       "    </tr>\n",
       "    <tr>\n",
       "      <th>shop_14</th>\n",
       "      <td>202.00</td>\n",
       "    </tr>\n",
       "    <tr>\n",
       "      <th>shop_15</th>\n",
       "      <td>202.00</td>\n",
       "    </tr>\n",
       "    <tr>\n",
       "      <th>shop_16</th>\n",
       "      <td>201.00</td>\n",
       "    </tr>\n",
       "    <tr>\n",
       "      <th>shop_17</th>\n",
       "      <td>204.00</td>\n",
       "    </tr>\n",
       "    <tr>\n",
       "      <th>shop_18</th>\n",
       "      <td>202.00</td>\n",
       "    </tr>\n",
       "    <tr>\n",
       "      <th>shop_19</th>\n",
       "      <td>202.00</td>\n",
       "    </tr>\n",
       "    <tr>\n",
       "      <th>shop_2</th>\n",
       "      <td>202.00</td>\n",
       "    </tr>\n",
       "    <tr>\n",
       "      <th>shop_20</th>\n",
       "      <td>201.00</td>\n",
       "    </tr>\n",
       "    <tr>\n",
       "      <th>shop_21</th>\n",
       "      <td>201.00</td>\n",
       "    </tr>\n",
       "    <tr>\n",
       "      <th>shop_22</th>\n",
       "      <td>201.00</td>\n",
       "    </tr>\n",
       "    <tr>\n",
       "      <th>shop_23</th>\n",
       "      <td>203.00</td>\n",
       "    </tr>\n",
       "    <tr>\n",
       "      <th>shop_24</th>\n",
       "      <td>203.00</td>\n",
       "    </tr>\n",
       "    <tr>\n",
       "      <th>shop_25</th>\n",
       "      <td>201.00</td>\n",
       "    </tr>\n",
       "    <tr>\n",
       "      <th>shop_26</th>\n",
       "      <td>202.00</td>\n",
       "    </tr>\n",
       "    <tr>\n",
       "      <th>shop_27</th>\n",
       "      <td>202.00</td>\n",
       "    </tr>\n",
       "    <tr>\n",
       "      <th>shop_28</th>\n",
       "      <td>202.00</td>\n",
       "    </tr>\n",
       "    <tr>\n",
       "      <th>shop_29</th>\n",
       "      <td>201.00</td>\n",
       "    </tr>\n",
       "    <tr>\n",
       "      <th>shop_3</th>\n",
       "      <td>201.00</td>\n",
       "    </tr>\n",
       "    <tr>\n",
       "      <th>shop_30</th>\n",
       "      <td>204.00</td>\n",
       "    </tr>\n",
       "    <tr>\n",
       "      <th>shop_31</th>\n",
       "      <td>202.00</td>\n",
       "    </tr>\n",
       "    <tr>\n",
       "      <th>shop_32</th>\n",
       "      <td>202.00</td>\n",
       "    </tr>\n",
       "    <tr>\n",
       "      <th>shop_33</th>\n",
       "      <td>201.00</td>\n",
       "    </tr>\n",
       "    <tr>\n",
       "      <th>shop_34</th>\n",
       "      <td>201.00</td>\n",
       "    </tr>\n",
       "    <tr>\n",
       "      <th>shop_35</th>\n",
       "      <td>201.00</td>\n",
       "    </tr>\n",
       "    <tr>\n",
       "      <th>shop_36</th>\n",
       "      <td>203.00</td>\n",
       "    </tr>\n",
       "    <tr>\n",
       "      <th>shop_37</th>\n",
       "      <td>203.00</td>\n",
       "    </tr>\n",
       "    <tr>\n",
       "      <th>shop_38</th>\n",
       "      <td>201.00</td>\n",
       "    </tr>\n",
       "    <tr>\n",
       "      <th>shop_39</th>\n",
       "      <td>202.00</td>\n",
       "    </tr>\n",
       "    <tr>\n",
       "      <th>shop_4</th>\n",
       "      <td>204.00</td>\n",
       "    </tr>\n",
       "    <tr>\n",
       "      <th>shop_5</th>\n",
       "      <td>202.00</td>\n",
       "    </tr>\n",
       "    <tr>\n",
       "      <th>shop_6</th>\n",
       "      <td>202.00</td>\n",
       "    </tr>\n",
       "    <tr>\n",
       "      <th>shop_7</th>\n",
       "      <td>201.00</td>\n",
       "    </tr>\n",
       "    <tr>\n",
       "      <th>shop_8</th>\n",
       "      <td>201.00</td>\n",
       "    </tr>\n",
       "    <tr>\n",
       "      <th>shop_9</th>\n",
       "      <td>201.00</td>\n",
       "    </tr>\n",
       "  </tbody>\n",
       "</table>\n",
       "</div>"
      ],
      "text/plain": [
       "        Quantity.SUM\n",
       "Shop                \n",
       "shop_0        202.00\n",
       "shop_1        202.00\n",
       "shop_10       203.00\n",
       "shop_11       203.00\n",
       "shop_12       201.00\n",
       "shop_13       202.00\n",
       "shop_14       202.00\n",
       "shop_15       202.00\n",
       "shop_16       201.00\n",
       "shop_17       204.00\n",
       "shop_18       202.00\n",
       "shop_19       202.00\n",
       "shop_2        202.00\n",
       "shop_20       201.00\n",
       "shop_21       201.00\n",
       "shop_22       201.00\n",
       "shop_23       203.00\n",
       "shop_24       203.00\n",
       "shop_25       201.00\n",
       "shop_26       202.00\n",
       "shop_27       202.00\n",
       "shop_28       202.00\n",
       "shop_29       201.00\n",
       "shop_3        201.00\n",
       "shop_30       204.00\n",
       "shop_31       202.00\n",
       "shop_32       202.00\n",
       "shop_33       201.00\n",
       "shop_34       201.00\n",
       "shop_35       201.00\n",
       "shop_36       203.00\n",
       "shop_37       203.00\n",
       "shop_38       201.00\n",
       "shop_39       202.00\n",
       "shop_4        204.00\n",
       "shop_5        202.00\n",
       "shop_6        202.00\n",
       "shop_7        201.00\n",
       "shop_8        201.00\n",
       "shop_9        201.00"
      ]
     },
     "execution_count": 19,
     "metadata": {},
     "output_type": "execute_result"
    }
   ],
   "source": [
    "cube.query(m[\"Quantity.SUM\"], levels=l[\"Shop\"])"
   ]
  },
  {
   "cell_type": "markdown",
   "metadata": {},
   "source": [
    "5We can _slice_ on a single **Shop**:\n",
    "\n",
    "<img alt=\"Slicing the cube\" src=\"images/olap/slice.svg\" width=\"400\" />"
   ]
  },
  {
   "cell_type": "code",
   "execution_count": 20,
   "metadata": {},
   "outputs": [
    {
     "data": {
      "application/vnd.atoti.convert-query-result-to-widget.v0+json": {
       "mdx": "SELECT {[Measures].[Quantity.SUM]} ON COLUMNS FROM (SELECT [Sales].[Shop].[AllMember].[shop_0] ON COLUMNS FROM [Sales])",
       "sessionName": "Unnamed",
       "widgetCreationCode": "session.visualize()"
      },
      "text/html": [
       "<div>\n",
       "<style scoped>\n",
       "    .dataframe tbody tr th:only-of-type {\n",
       "        vertical-align: middle;\n",
       "    }\n",
       "\n",
       "    .dataframe tbody tr th {\n",
       "        vertical-align: top;\n",
       "    }\n",
       "\n",
       "    .dataframe thead th {\n",
       "        text-align: right;\n",
       "    }\n",
       "</style>\n",
       "<table border=\"1\" class=\"dataframe\">\n",
       "  <thead>\n",
       "    <tr style=\"text-align: right;\">\n",
       "      <th></th>\n",
       "      <th>Quantity.SUM</th>\n",
       "    </tr>\n",
       "  </thead>\n",
       "  <tbody>\n",
       "    <tr>\n",
       "      <th>0</th>\n",
       "      <td>202.00</td>\n",
       "    </tr>\n",
       "  </tbody>\n",
       "</table>\n",
       "</div>"
      ],
      "text/plain": [
       "  Quantity.SUM\n",
       "0       202.00"
      ]
     },
     "execution_count": 20,
     "metadata": {},
     "output_type": "execute_result"
    }
   ],
   "source": [
    "cube.query(\n",
    "    m[\"Quantity.SUM\"],\n",
    "    condition=l[\"Shop\"] == \"shop_0\",\n",
    ")"
   ]
  },
  {
   "cell_type": "markdown",
   "metadata": {},
   "source": [
    "We can dice along 2 different axes and take the quantity per product and date.\n",
    "\n",
    "<img alt=\"Pivot table\" src=\"images/olap/pivot-table.svg\" width=\"400\" />"
   ]
  },
  {
   "cell_type": "code",
   "execution_count": 21,
   "metadata": {},
   "outputs": [
    {
     "data": {
      "application/vnd.atoti.convert-query-result-to-widget.v0+json": {
       "mdx": "SELECT {[Measures].[Quantity.SUM]} ON COLUMNS, NON EMPTY Crossjoin([Sales].[Date].[Date].Members, [Sales].[Product].[Product].Members) ON ROWS FROM [Sales]",
       "sessionName": "Unnamed",
       "widgetCreationCode": "session.visualize()"
      },
      "text/html": [
       "<div>\n",
       "<style scoped>\n",
       "    .dataframe tbody tr th:only-of-type {\n",
       "        vertical-align: middle;\n",
       "    }\n",
       "\n",
       "    .dataframe tbody tr th {\n",
       "        vertical-align: top;\n",
       "    }\n",
       "\n",
       "    .dataframe thead th {\n",
       "        text-align: right;\n",
       "    }\n",
       "</style>\n",
       "<table border=\"1\" class=\"dataframe\">\n",
       "  <thead>\n",
       "    <tr style=\"text-align: right;\">\n",
       "      <th></th>\n",
       "      <th></th>\n",
       "      <th>Quantity.SUM</th>\n",
       "    </tr>\n",
       "    <tr>\n",
       "      <th>Date</th>\n",
       "      <th>Product</th>\n",
       "      <th></th>\n",
       "    </tr>\n",
       "  </thead>\n",
       "  <tbody>\n",
       "    <tr>\n",
       "      <th rowspan=\"5\" valign=\"top\">2021-01-06</th>\n",
       "      <th>BED_24</th>\n",
       "      <td>8.00</td>\n",
       "    </tr>\n",
       "    <tr>\n",
       "      <th>BED_25</th>\n",
       "      <td>4.00</td>\n",
       "    </tr>\n",
       "    <tr>\n",
       "      <th>BED_26</th>\n",
       "      <td>6.00</td>\n",
       "    </tr>\n",
       "    <tr>\n",
       "      <th>BED_27</th>\n",
       "      <td>4.00</td>\n",
       "    </tr>\n",
       "    <tr>\n",
       "      <th>BED_3</th>\n",
       "      <td>2.00</td>\n",
       "    </tr>\n",
       "    <tr>\n",
       "      <th>...</th>\n",
       "      <th>...</th>\n",
       "      <td>...</td>\n",
       "    </tr>\n",
       "    <tr>\n",
       "      <th rowspan=\"5\" valign=\"top\">2021-02-04</th>\n",
       "      <th>TSH_52</th>\n",
       "      <td>6.00</td>\n",
       "    </tr>\n",
       "    <tr>\n",
       "      <th>TSH_53</th>\n",
       "      <td>4.00</td>\n",
       "    </tr>\n",
       "    <tr>\n",
       "      <th>TSH_7</th>\n",
       "      <td>3.00</td>\n",
       "    </tr>\n",
       "    <tr>\n",
       "      <th>TSH_8</th>\n",
       "      <td>5.00</td>\n",
       "    </tr>\n",
       "    <tr>\n",
       "      <th>TSH_9</th>\n",
       "      <td>3.00</td>\n",
       "    </tr>\n",
       "  </tbody>\n",
       "</table>\n",
       "<p>1830 rows × 1 columns</p>\n",
       "</div>"
      ],
      "text/plain": [
       "                   Quantity.SUM\n",
       "Date       Product             \n",
       "2021-01-06 BED_24          8.00\n",
       "           BED_25          4.00\n",
       "           BED_26          6.00\n",
       "           BED_27          4.00\n",
       "           BED_3           2.00\n",
       "...                         ...\n",
       "2021-02-04 TSH_52          6.00\n",
       "           TSH_53          4.00\n",
       "           TSH_7           3.00\n",
       "           TSH_8           5.00\n",
       "           TSH_9           3.00\n",
       "\n",
       "[1830 rows x 1 columns]"
      ]
     },
     "execution_count": 21,
     "metadata": {},
     "output_type": "execute_result"
    }
   ],
   "source": [
    "cube.query(m[\"Quantity.SUM\"], levels=[l[\"Date\"], l[\"Product\"]])"
   ]
  },
  {
   "cell_type": "markdown",
   "metadata": {},
   "source": [
    "5We can even combine these operations to slice on one hierarchy and dice on the two others:\n",
    "\n",
    "<img alt=\"Slice and dice\" src=\"images/olap/slice-and-dice.svg\" width=\"400\" />"
   ]
  },
  {
   "cell_type": "code",
   "execution_count": 22,
   "metadata": {},
   "outputs": [
    {
     "data": {
      "application/vnd.atoti.convert-query-result-to-widget.v0+json": {
       "mdx": "SELECT {[Measures].[Quantity.SUM]} ON COLUMNS, NON EMPTY Crossjoin([Sales].[Date].[Date].Members, [Sales].[Product].[Product].Members) ON ROWS FROM (SELECT [Sales].[Shop].[AllMember].[shop_0] ON COLUMNS FROM [Sales])",
       "sessionName": "Unnamed",
       "widgetCreationCode": "session.visualize()"
      },
      "text/html": [
       "<div>\n",
       "<style scoped>\n",
       "    .dataframe tbody tr th:only-of-type {\n",
       "        vertical-align: middle;\n",
       "    }\n",
       "\n",
       "    .dataframe tbody tr th {\n",
       "        vertical-align: top;\n",
       "    }\n",
       "\n",
       "    .dataframe thead th {\n",
       "        text-align: right;\n",
       "    }\n",
       "</style>\n",
       "<table border=\"1\" class=\"dataframe\">\n",
       "  <thead>\n",
       "    <tr style=\"text-align: right;\">\n",
       "      <th></th>\n",
       "      <th></th>\n",
       "      <th>Quantity.SUM</th>\n",
       "    </tr>\n",
       "    <tr>\n",
       "      <th>Date</th>\n",
       "      <th>Product</th>\n",
       "      <th></th>\n",
       "    </tr>\n",
       "  </thead>\n",
       "  <tbody>\n",
       "    <tr>\n",
       "      <th rowspan=\"5\" valign=\"top\">2021-01-15</th>\n",
       "      <th>BED_24</th>\n",
       "      <td>1.00</td>\n",
       "    </tr>\n",
       "    <tr>\n",
       "      <th>BED_26</th>\n",
       "      <td>1.00</td>\n",
       "    </tr>\n",
       "    <tr>\n",
       "      <th>BED_3</th>\n",
       "      <td>1.00</td>\n",
       "    </tr>\n",
       "    <tr>\n",
       "      <th>BED_4</th>\n",
       "      <td>1.00</td>\n",
       "    </tr>\n",
       "    <tr>\n",
       "      <th>BED_46</th>\n",
       "      <td>1.00</td>\n",
       "    </tr>\n",
       "    <tr>\n",
       "      <th>...</th>\n",
       "      <th>...</th>\n",
       "      <td>...</td>\n",
       "    </tr>\n",
       "    <tr>\n",
       "      <th rowspan=\"5\" valign=\"top\">2021-02-04</th>\n",
       "      <th>TSH_51</th>\n",
       "      <td>2.00</td>\n",
       "    </tr>\n",
       "    <tr>\n",
       "      <th>TSH_52</th>\n",
       "      <td>1.00</td>\n",
       "    </tr>\n",
       "    <tr>\n",
       "      <th>TSH_53</th>\n",
       "      <td>1.00</td>\n",
       "    </tr>\n",
       "    <tr>\n",
       "      <th>TSH_7</th>\n",
       "      <td>1.00</td>\n",
       "    </tr>\n",
       "    <tr>\n",
       "      <th>TSH_9</th>\n",
       "      <td>1.00</td>\n",
       "    </tr>\n",
       "  </tbody>\n",
       "</table>\n",
       "<p>125 rows × 1 columns</p>\n",
       "</div>"
      ],
      "text/plain": [
       "                   Quantity.SUM\n",
       "Date       Product             \n",
       "2021-01-15 BED_24          1.00\n",
       "           BED_26          1.00\n",
       "           BED_3           1.00\n",
       "           BED_4           1.00\n",
       "           BED_46          1.00\n",
       "...                         ...\n",
       "2021-02-04 TSH_51          2.00\n",
       "           TSH_52          1.00\n",
       "           TSH_53          1.00\n",
       "           TSH_7           1.00\n",
       "           TSH_9           1.00\n",
       "\n",
       "[125 rows x 1 columns]"
      ]
     },
     "execution_count": 22,
     "metadata": {},
     "output_type": "execute_result"
    }
   ],
   "source": [
    "cube.query(\n",
    "    m[\"Quantity.SUM\"],\n",
    "    levels=[l[\"Date\"], l[\"Product\"]],\n",
    "    condition=l[\"Shop\"] == \"shop_0\",\n",
    ")"
   ]
  },
  {
   "cell_type": "markdown",
   "metadata": {},
   "source": [
    "### First visualization\n",
    "\n",
    "So far we have used `cube.query` which returns a table as a pandas DataFrame but a better way to visualize multidimensional data is a pivot table.\n",
    "With atoti's JupyterLab extension, you can do advanced and interactive visualizations such as pivot tables and charts directly into your notebook by calling `session.visualize()`.\n",
    "\n",
    "This will create a widget and open the atoti tab on the left with tools to manipulate the widget.\n",
    "\n",
    "Let's start by creating a pivot table:\n",
    "\n",
    "- Run `session.visualize()`.\n",
    "- In the left panel, click on a measure such as **Amount.SUM** to add it.\n",
    "- Click on a hierarchy such as **Date** to get the amount per date.\n",
    "- Drag and drop another hierarchy such as **Product** to the **Columns** section to get the amount sold per day and per product.\n",
    "\n",
    "![First pivot table](images/gifs/first-pivot-table.gif)"
   ]
  },
  {
   "cell_type": "code",
   "execution_count": 23,
   "metadata": {
    "atoti": {
     "widget": {
      "columnWidths": {
       "[Measures].[Quantity.MEAN]": 208,
       "[Measures].[contributors.COUNT]": 164.890625
      },
      "mapping": {
       "columns": [
        "ALL_MEASURES"
       ],
       "measures": [
        "[Measures].[Quantity.SUM]"
       ],
       "rows": [
        "[Sales].[Product].[Product]",
        "[Sales].[Shop].[Shop]"
       ]
      },
      "query": {
       "mdx": "SELECT NON EMPTY {[Measures].[Quantity.SUM]} ON COLUMNS, NON EMPTY Crossjoin(Hierarchize(Descendants({[Sales].[Product].[AllMember]}, 1, SELF_AND_BEFORE)), Hierarchize(Descendants({[Sales].[Shop].[AllMember]}, 1, SELF_AND_BEFORE))) ON ROWS FROM [Sales]",
       "updateMode": "once"
      },
      "serverKey": "default",
      "widgetKey": "pivot-table"
     }
    },
    "tags": []
   },
   "outputs": [
    {
     "data": {
      "application/vnd.atoti.widget.v0+json": {
       "name": null,
       "session": "Unnamed"
      },
      "text/plain": [
       "Open the notebook in JupyterLab with the atoti extension installed and enabled to start editing this widget."
      ]
     },
     "metadata": {},
     "output_type": "display_data"
    }
   ],
   "source": [
    "session.visualize()"
   ]
  },
  {
   "cell_type": "markdown",
   "metadata": {},
   "source": [
    "A pivot table can be switched to a chart.\n",
    "\n",
    "For instance let's switch to a simple line chart.\n",
    "\n",
    "![First atoti chart](images/gifs/first-chart.gif)"
   ]
  },
  {
   "cell_type": "code",
   "execution_count": null,
   "metadata": {},
   "outputs": [],
   "source": [
    "session.visualize()"
   ]
  },
  {
   "cell_type": "markdown",
   "metadata": {},
   "source": [
    "### Drilldown and filters\n",
    "\n",
    "Multidimensional analysis is meant to be done from top to bottom: start by visualizing the indicators at the top level then drilldown to explain the top figures with more details.\n",
    "\n",
    "For instance, we can visualize some measures per date then drilldown on **Shop** for a specific date, then see the products sold by a specific shop on this date.\n",
    "\n",
    "Using the previous cube representation, this is like zooming more and more on a part of the cube.\n",
    "\n",
    "<img alt=\"Drilldown the cube\" src=\"images/olap/drilldown.svg\" width=\"1200\" />\n",
    "\n",
    "![Drilldown](images/gifs/drilldown.gif)"
   ]
  },
  {
   "cell_type": "code",
   "execution_count": null,
   "metadata": {},
   "outputs": [],
   "source": [
    "session.visualize()"
   ]
  },
  {
   "cell_type": "markdown",
   "metadata": {},
   "source": [
    "Hierarchies can be filtered when building widgets.\n",
    "Let's apply a filter on the previous chart and only visualize the amount for a group of selected products.\n",
    "\n",
    "![Chart filter](images/gifs/filter-chart.gif)"
   ]
  },
  {
   "cell_type": "code",
   "execution_count": null,
   "metadata": {},
   "outputs": [],
   "source": [
    "session.visualize()"
   ]
  },
  {
   "cell_type": "markdown",
   "metadata": {},
   "source": [
    "### Dashboarding application\n",
    "\n",
    "Being able to quickly build widgets inside a notebook without coding is nice to rapidly explore the data, iterate on your model and share some results.\n",
    "However, to provide richer insights, dashboards are even better.\n",
    "That's why atoti comes with a web application that can be accessed outside of the notebook and where widgets can be laid out to form dashboards.\n",
    "\n",
    "The URL of this application can be accessed like that:"
   ]
  },
  {
   "cell_type": "code",
   "execution_count": null,
   "metadata": {},
   "outputs": [],
   "source": [
    "session.url"
   ]
  },
  {
   "cell_type": "markdown",
   "metadata": {},
   "source": [
    "It's possible to publish widgets built in the notebook to the application by right clicking on them and selecting \"Publish widget in app\".\n",
    "They will then be available in the \"Saved widgets\" section.\n",
    "\n",
    "![Publish widget in application](images/gifs/open-in-app.gif)"
   ]
  },
  {
   "cell_type": "markdown",
   "metadata": {},
   "source": [
    "## Enriching the cube\n",
    "\n",
    "In the previous section, you have learned how to create a basic cube and manipulate it.\n",
    "We will now enrich this cube with additional attributes and more interesting measures."
   ]
  },
  {
   "cell_type": "markdown",
   "metadata": {},
   "source": [
    "### Join\n",
    "\n",
    "Currently, we have very limited information about our products: only the ID.\n",
    "We can load a CSV containing more details into a new store:"
   ]
  },
  {
   "cell_type": "code",
   "execution_count": null,
   "metadata": {},
   "outputs": [],
   "source": [
    "products_store = session.read_csv(\"data/products.csv\", keys=[\"Product\"])"
   ]
  },
  {
   "cell_type": "markdown",
   "metadata": {},
   "source": [
    "Note that a store can have a set of keys.\n",
    "These keys are the columns which make each line unique.\n",
    "Here, it's the product ID.\n",
    "\n",
    "If you try to insert a new row with the same keys as an existing row, it will override the existing one."
   ]
  },
  {
   "cell_type": "code",
   "execution_count": null,
   "metadata": {},
   "outputs": [],
   "source": [
    "products_store.head()"
   ]
  },
  {
   "cell_type": "markdown",
   "metadata": {},
   "source": [
    "This store contains the category, subcategory, size, color, purchase price and brand of the product.\n",
    "Both stores have a **Product** column we can use to join them.\n",
    "\n",
    "Note that this is a database-like join and not a pandas-like join.\n",
    "All the details from `products_store` won't be inlined into `sales_store`.\n",
    "Instead, this just declares a reference between these two stores that the cube can use to provide more analytical axes."
   ]
  },
  {
   "cell_type": "code",
   "execution_count": null,
   "metadata": {},
   "outputs": [],
   "source": [
    "sales_store.join(products_store, mapping={\"Product\": \"Product\"})"
   ]
  },
  {
   "cell_type": "markdown",
   "metadata": {},
   "source": [
    "You can visualize the structure of the whole datastore:"
   ]
  },
  {
   "cell_type": "code",
   "execution_count": null,
   "metadata": {},
   "outputs": [],
   "source": [
    "session.stores.schema"
   ]
  },
  {
   "cell_type": "markdown",
   "metadata": {},
   "source": [
    "The new columns have been automatically added to the cube as hierarchies, in a dimension with the same name as the new store:"
   ]
  },
  {
   "cell_type": "code",
   "execution_count": null,
   "metadata": {},
   "outputs": [],
   "source": [
    "h"
   ]
  },
  {
   "cell_type": "markdown",
   "metadata": {},
   "source": [
    "You can use them directly in a new widget.\n",
    "For instance, let's create a bar chart to visualize the mean price per subcategory of product:\n",
    "\n",
    "![Price per category](images/gifs/price-per-category.png)"
   ]
  },
  {
   "cell_type": "code",
   "execution_count": null,
   "metadata": {},
   "outputs": [],
   "source": [
    "session.visualize()"
   ]
  },
  {
   "cell_type": "markdown",
   "metadata": {},
   "source": [
    "We can also make a donut chart to see how all the sales are distributed between brands:\n",
    "\n",
    "![Donut chart brands](images/gifs/donut-chart.png)"
   ]
  },
  {
   "cell_type": "code",
   "execution_count": null,
   "metadata": {},
   "outputs": [],
   "source": [
    "session.visualize()"
   ]
  },
  {
   "cell_type": "markdown",
   "metadata": {},
   "source": [
    "Note that after the join we can add a new measure called **Purchase price.VALUE** based on the corresponding column of the joined store.\n",
    "This measure represents the value of the column so it is only defined when all the keys of the joined store are expressed in the query."
   ]
  },
  {
   "cell_type": "code",
   "execution_count": null,
   "metadata": {},
   "outputs": [],
   "source": [
    "m[\"Purchase price.VALUE\"] = tt.value(products_store[\"Purchase price\"])"
   ]
  },
  {
   "cell_type": "markdown",
   "metadata": {},
   "source": [
    "For instance we can check the purchase price per **Product**:"
   ]
  },
  {
   "cell_type": "code",
   "execution_count": null,
   "metadata": {},
   "outputs": [],
   "source": [
    "cube.query(m[\"Purchase price.VALUE\"], levels=l[\"Product\"])"
   ]
  },
  {
   "cell_type": "markdown",
   "metadata": {},
   "source": [
    "In a similar way, we can enrich the data about the shops:"
   ]
  },
  {
   "cell_type": "code",
   "execution_count": null,
   "metadata": {},
   "outputs": [],
   "source": [
    "shops_store = session.read_csv(\"data/shops.csv\", keys=[\"Shop ID\"])\n",
    "shops_store.head()"
   ]
  },
  {
   "cell_type": "code",
   "execution_count": null,
   "metadata": {},
   "outputs": [],
   "source": [
    "sales_store.join(shops_store, mapping={\"Shop\": \"Shop ID\"})\n",
    "session.stores.schema"
   ]
  },
  {
   "cell_type": "markdown",
   "metadata": {},
   "source": [
    "We can now plot the evolution of the sales per country over time:\n",
    "\n",
    "![Amount per country over time](images/gifs/split-by-country.gif)"
   ]
  },
  {
   "cell_type": "code",
   "execution_count": null,
   "metadata": {},
   "outputs": [],
   "source": [
    "session.visualize()"
   ]
  },
  {
   "cell_type": "markdown",
   "metadata": {},
   "source": [
    "### New measures\n",
    "\n",
    "So far we have only used the default measures which are basic aggregations of the numeric columns.\n",
    "We can add new custom measures to our cube."
   ]
  },
  {
   "cell_type": "markdown",
   "metadata": {},
   "source": [
    "#### Max\n",
    "\n",
    "We'll start with a simple aggregation taking the maximum price of the sales store:"
   ]
  },
  {
   "cell_type": "code",
   "execution_count": null,
   "metadata": {},
   "outputs": [],
   "source": [
    "m[\"Max price\"] = tt.agg.max(sales_store[\"Unit price\"])"
   ]
  },
  {
   "cell_type": "markdown",
   "metadata": {},
   "source": [
    "This new measure is directly available:"
   ]
  },
  {
   "cell_type": "code",
   "execution_count": null,
   "metadata": {},
   "outputs": [],
   "source": [
    "cube.query(m[\"Max price\"], include_totals=True, levels=l[\"Category\"])"
   ]
  },
  {
   "cell_type": "markdown",
   "metadata": {},
   "source": [
    "#### Fact-level operations\n",
    "\n",
    "To compute aggregates based of data which comes directly from the columns of a store, you can pass the calculation directly to the desired aggregation function. This is more efficient than first converting the columns to measures before the aggregation.\n",
    "\n",
    "Let's use this to compute the total amount earned from the sale of the products, as well as the average.\n",
    "\n",
    "Note the use of the `origin` scope instructing to perform the multiplication for each **Sale ID** and then do the sum."
   ]
  },
  {
   "cell_type": "code",
   "execution_count": null,
   "metadata": {},
   "outputs": [],
   "source": [
    "m[\"Amount.SUM\"] = tt.agg.sum(\n",
    "    sales_store[\"Quantity\"] * sales_store[\"Unit price\"],\n",
    "    scope=tt.scope.origin(l[\"Sale ID\"]),\n",
    ")\n",
    "m[\"Amount.MEAN\"] = tt.agg.mean(\n",
    "    sales_store[\"Quantity\"] * sales_store[\"Unit price\"],\n",
    "    scope=tt.scope.origin(l[\"Sale ID\"]),\n",
    ")"
   ]
  },
  {
   "cell_type": "code",
   "execution_count": null,
   "metadata": {},
   "outputs": [],
   "source": [
    "cube.query(m[\"Amount.SUM\"], m[\"Amount.MEAN\"])"
   ]
  },
  {
   "cell_type": "markdown",
   "metadata": {},
   "source": [
    "#### Margin\n",
    "\n",
    "Now that the price of each product is available from the products store, we can compute the margin.\n",
    "\n",
    "To do that, we start by computing the cost which is the quantity sold multiplied by the purchase price, summed over all the products."
   ]
  },
  {
   "cell_type": "code",
   "execution_count": null,
   "metadata": {},
   "outputs": [],
   "source": [
    "cost = tt.agg.sum(\n",
    "    m[\"Quantity.SUM\"] * products_store[\"Purchase price\"],\n",
    "    scope=tt.scope.origin(l[\"Product\"]),\n",
    ")"
   ]
  },
  {
   "cell_type": "code",
   "execution_count": null,
   "metadata": {},
   "outputs": [],
   "source": [
    "m[\"Margin\"] = m[\"Amount.SUM\"] - cost"
   ]
  },
  {
   "cell_type": "markdown",
   "metadata": {},
   "source": [
    "We can also define the margin rate which is the ratio of the margin by the the sold amount:"
   ]
  },
  {
   "cell_type": "code",
   "execution_count": null,
   "metadata": {},
   "outputs": [],
   "source": [
    "m[\"Margin rate\"] = m[\"Margin\"] / m[\"Amount.SUM\"]"
   ]
  },
  {
   "cell_type": "code",
   "execution_count": null,
   "metadata": {},
   "outputs": [],
   "source": [
    "cube.query(m[\"Margin\"], m[\"Margin rate\"], levels=l[\"Product\"])"
   ]
  },
  {
   "cell_type": "markdown",
   "metadata": {},
   "source": [
    "Let's use this margin rate to do a _Top 10_ filter to see the products with the best rate.\n",
    "\n",
    "Note that you don't need to put the rate measure and the product level in the pivot table to apply the filter.\n",
    "\n",
    "![top10 filter on the margin rate](images/gifs/top10-margin.gif)"
   ]
  },
  {
   "cell_type": "code",
   "execution_count": null,
   "metadata": {},
   "outputs": [],
   "source": [
    "session.visualize()"
   ]
  },
  {
   "cell_type": "markdown",
   "metadata": {},
   "source": [
    "#### Cumulative sum over time"
   ]
  },
  {
   "cell_type": "markdown",
   "metadata": {},
   "source": [
    "A cumulative sum is the partial sum of the data up to the current value.\n",
    "For instance, a cumulative sum over time can be used to show how some measure changes over time."
   ]
  },
  {
   "cell_type": "code",
   "execution_count": null,
   "metadata": {},
   "outputs": [],
   "source": [
    "m[\"Cumulative amount\"] = tt.agg.sum(\n",
    "    m[\"Amount.SUM\"], scope=tt.scope.cumulative(l[\"Date\"])\n",
    ")"
   ]
  },
  {
   "cell_type": "markdown",
   "metadata": {},
   "source": [
    "![Cumulative amount](images/gifs/cumulative-amount.png)"
   ]
  },
  {
   "cell_type": "code",
   "execution_count": null,
   "metadata": {},
   "outputs": [],
   "source": [
    "session.visualize()"
   ]
  },
  {
   "cell_type": "markdown",
   "metadata": {},
   "source": [
    "#### Average per store"
   ]
  },
  {
   "cell_type": "markdown",
   "metadata": {},
   "source": [
    "Aggregations can also be combined.\n",
    "For instance, we can sum inside a **Shop**: then take the average of this to see how much a store sales on average:"
   ]
  },
  {
   "cell_type": "code",
   "execution_count": null,
   "metadata": {},
   "outputs": [],
   "source": [
    "m[\"Average amount per shop\"] = tt.agg.mean(\n",
    "    m[\"Amount.SUM\"], scope=tt.scope.origin(l[\"Shop\"])\n",
    ")"
   ]
  },
  {
   "cell_type": "code",
   "execution_count": null,
   "metadata": {},
   "outputs": [],
   "source": [
    "cube.query(m[\"Average amount per shop\"], include_totals=True, levels=l[\"Sub category\"])"
   ]
  },
  {
   "cell_type": "markdown",
   "metadata": {},
   "source": [
    "### Multilevel hierarchies"
   ]
  },
  {
   "cell_type": "markdown",
   "metadata": {},
   "source": [
    "So far, all our hierarchies only had one level but it's best to regroup attributes with a parent-child relationship in the same hierarchy.\n",
    "\n",
    "For example, we can group the **Category**, **SubCategory** and **Product ID** levels into a **Product** hierarchy:"
   ]
  },
  {
   "cell_type": "code",
   "execution_count": null,
   "metadata": {},
   "outputs": [],
   "source": [
    "h[\"Product\"] = [l[\"Category\"], l[\"Sub category\"], l[\"Product\"]]"
   ]
  },
  {
   "cell_type": "markdown",
   "metadata": {},
   "source": [
    "And let's remove the old hierarchies:"
   ]
  },
  {
   "cell_type": "code",
   "execution_count": null,
   "metadata": {},
   "outputs": [],
   "source": [
    "del h[\"Category\"]\n",
    "del h[\"Sub category\"]"
   ]
  },
  {
   "cell_type": "code",
   "execution_count": null,
   "metadata": {},
   "outputs": [],
   "source": [
    "h"
   ]
  },
  {
   "cell_type": "markdown",
   "metadata": {},
   "source": [
    "We can also do it with **City**, **State or Region** and **Country** to build a **Geography** hierarchy.\n",
    "\n",
    "Note that instead of using existing levels you can also define a hierarchy with the fields of the store the levels will be based on:"
   ]
  },
  {
   "cell_type": "code",
   "execution_count": null,
   "metadata": {},
   "outputs": [],
   "source": [
    "h[\"Geography\"] = [\n",
    "    shops_store[\"Country\"],\n",
    "    shops_store[\"State or region\"],\n",
    "    shops_store[\"City\"],\n",
    "]\n",
    "del h[\"Country\"]\n",
    "del h[\"State or region\"]\n",
    "del h[\"City\"]"
   ]
  },
  {
   "cell_type": "markdown",
   "metadata": {},
   "source": [
    "As we are restructuring the hierarchies, let's use this opportunity to also change the dimensions.\n",
    "\n",
    "A dimension regroups hierarchies of the same concept.\n",
    "\n",
    "To keep it simple here, we will simply move the new **Geography** hierarchy to its own dimension:"
   ]
  },
  {
   "cell_type": "code",
   "execution_count": null,
   "metadata": {},
   "outputs": [],
   "source": [
    "h[\"Geography\"].dimension = \"Location\"\n",
    "h"
   ]
  },
  {
   "cell_type": "markdown",
   "metadata": {},
   "source": [
    "With that, we can define new measures taking advantage of the multilevel structure.\n",
    "For instance, we can create a measure indicating how much a product contributes to its subcategory:"
   ]
  },
  {
   "cell_type": "code",
   "execution_count": null,
   "metadata": {},
   "outputs": [],
   "source": [
    "m[\"Parent category amount\"] = tt.parent_value(\n",
    "    m[\"Amount.SUM\"], on=h[(\"Products\", \"Product\")]\n",
    ")"
   ]
  },
  {
   "cell_type": "code",
   "execution_count": null,
   "metadata": {},
   "outputs": [],
   "source": [
    "m[\"Percent of parent amount\"] = m[\"Amount.SUM\"] / m[\"Parent category amount\"]"
   ]
  },
  {
   "cell_type": "markdown",
   "metadata": {},
   "source": [
    "![Percent of parent](images/gifs/percent-of-parent.gif)"
   ]
  },
  {
   "cell_type": "code",
   "execution_count": null,
   "metadata": {},
   "outputs": [],
   "source": [
    "session.visualize()"
   ]
  },
  {
   "cell_type": "markdown",
   "metadata": {},
   "source": [
    "## Polishing the cube"
   ]
  },
  {
   "cell_type": "markdown",
   "metadata": {},
   "source": [
    "### Deleting or hiding measures\n",
    "\n",
    "Some measures have been automatically created from numeric fields but are not useful.\n",
    "For instance, **Unit Price.SUM** does not really make sense as we never want to sum the unit prices.\n",
    "We can delete it:"
   ]
  },
  {
   "cell_type": "code",
   "execution_count": null,
   "metadata": {},
   "outputs": [],
   "source": [
    "del m[\"Unit price.SUM\"]"
   ]
  },
  {
   "cell_type": "markdown",
   "metadata": {},
   "source": [
    "Other measures have been used while building the project only as intermediary steps but are not useful to the end users in the application.\n",
    "We can hide them from the UI (they will remain accessible in Python):"
   ]
  },
  {
   "cell_type": "code",
   "execution_count": null,
   "metadata": {},
   "outputs": [],
   "source": [
    "m[\"Parent category amount\"].visible = False"
   ]
  },
  {
   "cell_type": "markdown",
   "metadata": {},
   "source": [
    "### Measure folders\n",
    "\n",
    "Measures can be rearranged into folders."
   ]
  },
  {
   "cell_type": "code",
   "execution_count": null,
   "metadata": {},
   "outputs": [],
   "source": [
    "for measure in [\n",
    "    m[\"Amount.MEAN\"],\n",
    "    m[\"Amount.SUM\"],\n",
    "    m[\"Average amount per shop\"],\n",
    "    m[\"Cumulative amount\"],\n",
    "    m[\"Percent of parent amount\"],\n",
    "]:\n",
    "    measure.folder = \"Amount\""
   ]
  },
  {
   "cell_type": "code",
   "execution_count": null,
   "metadata": {},
   "outputs": [],
   "source": [
    "m"
   ]
  },
  {
   "cell_type": "markdown",
   "metadata": {},
   "source": [
    "### Measure formatters\n",
    "\n",
    "Some measures can be formatted for a nicer display.\n",
    "Classic examples of this is changing the number of decimals or adding a percent or a currency symbol.\n",
    "\n",
    "Let's do this for our percent of parent amount and margin rate:\n",
    "\n",
    "#### Before"
   ]
  },
  {
   "cell_type": "code",
   "execution_count": null,
   "metadata": {},
   "outputs": [],
   "source": [
    "cube.query(m[\"Percent of parent amount\"], m[\"Margin rate\"], levels=l[\"Category\"])"
   ]
  },
  {
   "cell_type": "code",
   "execution_count": null,
   "metadata": {},
   "outputs": [],
   "source": [
    "m[\"Percent of parent amount\"].formatter = \"DOUBLE[0.00%]\"\n",
    "m[\"Margin rate\"].formatter = \"DOUBLE[0.00%]\""
   ]
  },
  {
   "cell_type": "markdown",
   "metadata": {},
   "source": [
    "#### After"
   ]
  },
  {
   "cell_type": "code",
   "execution_count": null,
   "metadata": {},
   "outputs": [],
   "source": [
    "cube.query(m[\"Percent of parent amount\"], m[\"Margin rate\"], levels=l[\"Category\"])"
   ]
  },
  {
   "cell_type": "markdown",
   "metadata": {},
   "source": [
    "## Simulations\n",
    "\n",
    "Simulations are a way to compare several scenarios and do what-if analysis.\n",
    "This is very powerful as it helps understanding how changing the source data or a piece of the model impact the key indicators.\n",
    "\n",
    "In atoti, the data model is made of measures chained together.\n",
    "A simulation can be seen as changing one part of the model, either its source data or one of its measure definitions, and then evaluating how it impacts the following measures.\n",
    "\n",
    "### Source simulation\n",
    "\n",
    "Let's start by changing the source.\n",
    "With pandas or Spark, if you want to compare two results for a different versions of the entry dataset you have to reapply all the transformations to your dataset.\n",
    "With atoti, you only have to provide the new data and all the measures will be automatically available for both versions of the data.\n",
    "\n",
    "We will create a new scenario using pandas to modify the original dataset."
   ]
  },
  {
   "cell_type": "code",
   "execution_count": null,
   "metadata": {},
   "outputs": [],
   "source": [
    "import pandas as pd"
   ]
  },
  {
   "cell_type": "markdown",
   "metadata": {},
   "source": [
    "For instance, we can simulate what would happen if we had managed to purchase some products at a cheaper price."
   ]
  },
  {
   "cell_type": "code",
   "execution_count": null,
   "metadata": {},
   "outputs": [],
   "source": [
    "products_df = pd.read_csv(\"data/products.csv\")\n",
    "products_df.head()"
   ]
  },
  {
   "cell_type": "code",
   "execution_count": null,
   "metadata": {},
   "outputs": [],
   "source": [
    "better_prices = {\n",
    "    \"TAB_0\": 180.0,\n",
    "    \"TAB_1\": 250.0,\n",
    "    \"CHA_2\": 40.0,\n",
    "    \"BED_3\": 110.0,\n",
    "    \"BED_4\": 210.0,\n",
    "}"
   ]
  },
  {
   "cell_type": "code",
   "execution_count": null,
   "metadata": {},
   "outputs": [],
   "source": [
    "for product, purchase_price in better_prices.items():\n",
    "    products_df.loc[\n",
    "        products_df[\"Product\"] == product, \"Purchase price\"\n",
    "    ] = purchase_price\n",
    "products_df.head()"
   ]
  },
  {
   "cell_type": "markdown",
   "metadata": {},
   "source": [
    "We can now load this new dataframe into a new scenarios of the product store."
   ]
  },
  {
   "cell_type": "code",
   "execution_count": null,
   "metadata": {},
   "outputs": [],
   "source": [
    "products_store.scenarios[\"Cheaper purchase prices\"].load_pandas(products_df)"
   ]
  },
  {
   "cell_type": "markdown",
   "metadata": {},
   "source": [
    "The session now has two scenarios and the only differences between them are the lines corresponding to the products with better prices, everything else is shared between the scenarios and has not been duplicated: source scenarios in atoti are memory-efficient.\n",
    "\n",
    "<img alt=\"Source simulation\" src=\"images/olap/source-simulation.svg\" width=\"750\" />\n",
    "\n",
    "Using the **Source Simulation** hierarchy we can display the margin of the scenario and compare it to the base case.\n",
    "\n",
    "![Source simulation comparison](images/gifs/source-simulation.gif)"
   ]
  },
  {
   "cell_type": "code",
   "execution_count": null,
   "metadata": {},
   "outputs": [],
   "source": [
    "session.visualize()"
   ]
  },
  {
   "cell_type": "markdown",
   "metadata": {},
   "source": [
    "Note that all the existing measures are immediately available on the new data.\n",
    "For instance, the margin rate still exists, and we can see that in this scenario we would have a better margin for the Furniture products.\n",
    "\n",
    "![Margin rate per product category and scenario](images/gifs/margin-rate-per-scenario.gif)"
   ]
  },
  {
   "cell_type": "code",
   "execution_count": null,
   "metadata": {},
   "outputs": [],
   "source": [
    "session.visualize()"
   ]
  },
  {
   "cell_type": "markdown",
   "metadata": {},
   "source": [
    "### Measures simulations\n",
    "\n",
    "The other simulation technique is to change the value of a measure for some coordinates.\n",
    "The value of the simulated measure can be multiplied by some factor, added to a fixed amount, or completely replaced.\n",
    "\n",
    "When creating the simulation, you can choose at which granularity the modification applies.\n",
    "For instance, we can create a simulation of the quantity and amount measures per country.\n",
    "Doing that, we can answer questions such as \"What happens if there is a crisis in France and we sell 20% less?\""
   ]
  },
  {
   "cell_type": "code",
   "execution_count": null,
   "metadata": {},
   "outputs": [],
   "source": [
    "quantity_simulation = cube.setup_simulation(\n",
    "    \"Country Simulation\",\n",
    "    levels=[l[\"Country\"]],\n",
    "    multiply=[m[\"Quantity.SUM\"], m[\"Amount.SUM\"]],\n",
    ")"
   ]
  },
  {
   "cell_type": "markdown",
   "metadata": {},
   "source": [
    "Let's add a first scenario to this simulation:"
   ]
  },
  {
   "cell_type": "code",
   "execution_count": null,
   "metadata": {},
   "outputs": [],
   "source": [
    "france_crisis = quantity_simulation.scenarios[\"France crisis\"]"
   ]
  },
  {
   "cell_type": "markdown",
   "metadata": {},
   "source": [
    "A scenario is like a store where you can add new parameters to configure the scenario.\n",
    "In this scenario, we decided that France sell 20% less so let's multiply the quantity and the amount by 80% only for France."
   ]
  },
  {
   "cell_type": "code",
   "execution_count": null,
   "metadata": {},
   "outputs": [],
   "source": [
    "france_crisis += (\"France\", 0.80, 0.80)\n",
    "france_crisis.head()"
   ]
  },
  {
   "cell_type": "markdown",
   "metadata": {},
   "source": [
    "Let's query the cube using the new **Country Simulation** hierarchy to compare the quantity and amount between the base case and our new scenario:"
   ]
  },
  {
   "cell_type": "code",
   "execution_count": null,
   "metadata": {},
   "outputs": [],
   "source": [
    "cube.query(\n",
    "    m[\"Quantity.SUM\"],\n",
    "    m[\"Amount.SUM\"],\n",
    "    include_totals=True,\n",
    "    levels=[l[\"Country Simulation\"], l[\"Country\"]],\n",
    ")"
   ]
  },
  {
   "cell_type": "markdown",
   "metadata": {},
   "source": [
    "A measure simulation can be seen as something intercepting the regular aggregation flow to override the value of one or more measures for the specified coordinates.\n",
    "\n",
    "Here for example, as the amount has been modified, the measures depending on it such as the cumulative amount are also impacted."
   ]
  },
  {
   "cell_type": "code",
   "execution_count": null,
   "metadata": {},
   "outputs": [],
   "source": [
    "cube.query(m[\"Cumulative amount\"], levels=[l[\"Country Simulation\"], l[\"Country\"]])"
   ]
  },
  {
   "cell_type": "markdown",
   "metadata": {},
   "source": [
    "The current measure simulation can be illustrated like this:\n",
    "\n",
    "<img alt=\"Measure simulations\" src=\"images/olap/measure-simulations.svg\" width=\"550\" />"
   ]
  },
  {
   "cell_type": "markdown",
   "metadata": {},
   "source": [
    "Note that you are not limited to a single scenario:"
   ]
  },
  {
   "cell_type": "code",
   "execution_count": null,
   "metadata": {},
   "outputs": [],
   "source": [
    "quantity_simulation.scenarios[\"US boost\"] += (\"USA\", 1.15, 1.15)"
   ]
  },
  {
   "cell_type": "code",
   "execution_count": null,
   "metadata": {},
   "outputs": [],
   "source": [
    "cube.query(m[\"Quantity.SUM\"], levels=[l[\"Country Simulation\"], l[\"Country\"]])"
   ]
  },
  {
   "cell_type": "markdown",
   "metadata": {},
   "source": [
    "The two scenarios can be visualized in the same widget:\n",
    "\n",
    "![Cumulative amount per scenario](images/gifs/cumulative-amount-per-scenario.gif)"
   ]
  },
  {
   "cell_type": "code",
   "execution_count": null,
   "metadata": {},
   "outputs": [],
   "source": [
    "session.visualize()"
   ]
  },
  {
   "cell_type": "markdown",
   "metadata": {},
   "source": [
    "Finally, we can even combine the different simulations (the source one and the measure one) to create a matrix of scenarios:\n",
    "\n",
    "![Matrix of scenarios](images/gifs/scenarios-matrix.gif)"
   ]
  },
  {
   "cell_type": "code",
   "execution_count": null,
   "metadata": {},
   "outputs": [],
   "source": [
    "session.visualize()"
   ]
  },
  {
   "cell_type": "markdown",
   "metadata": {},
   "source": [
    "## Going further\n",
    "\n",
    "You've learned all the basics to build a project with atoti, from the concept of multidimensional analysis to powerful simulations.\n",
    "\n",
    "We now encourage you to try the library with your own data.\n",
    "You can also start to learn more advanced features such as [session configuration](../lib/atoti.config.rst), [custom endpoints](../lib/atoti.session.rst#atoti.session.Session.endpoint), [querying](../lib/atoti.query.rst), and [arrays](../lib/atoti.array.rst)."
   ]
  }
 ],
 "metadata": {
  "kernelspec": {
   "display_name": "Python 3",
   "language": "python",
   "name": "python3"
  },
  "language_info": {
   "codemirror_mode": {
    "name": "ipython",
    "version": 3
   },
   "file_extension": ".py",
   "mimetype": "text/x-python",
   "name": "python",
   "nbconvert_exporter": "python",
   "pygments_lexer": "ipython3",
   "version": "3.8.10"
  }
 },
 "nbformat": 4,
 "nbformat_minor": 4
}
